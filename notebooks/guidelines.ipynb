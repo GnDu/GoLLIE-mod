{
 "cells": [
  {
   "cell_type": "code",
   "execution_count": 64,
   "id": "25951071",
   "metadata": {},
   "outputs": [],
   "source": [
    "import inspect\n",
    "import black\n",
    "import rich\n",
    "import re\n",
    "\n",
    "\n",
    "def get_guideline(data_class):\n",
    "    source = inspect.getsource(data_class)\n",
    "    source = black.format_str(source, mode=black.Mode())\n",
    "    # rich.print(source)\n",
    "    source = source.replace(\"\\n\", \" \")\n",
    "    guideline = re.search(r\"\\\"\\\"\\\"(.*?)\\\"\\\"\\\"\", source).group(0).strip()[3:-3]\n",
    "    guideline = \" \".join(guideline.split())\n",
    "    # rich.print(guideline)\n",
    "    return guideline"
   ]
  },
  {
   "cell_type": "markdown",
   "id": "8c8ae31e",
   "metadata": {},
   "source": [
    "# ACE"
   ]
  },
  {
   "cell_type": "code",
   "execution_count": 45,
   "id": "4402e059",
   "metadata": {},
   "outputs": [],
   "source": [
    "from src.tasks.ace.prompts import (\n",
    "    GPE,\n",
    "    Acquit,\n",
    "    AgentArtifactRelationRelation,\n",
    "    Appeal,\n",
    "    ArrestJail,\n",
    "    Attack,\n",
    "    BeBorn,\n",
    "    Business,\n",
    "    BusinessEvent,\n",
    "    ChargeIndict,\n",
    "    CitizenResidentReligionEthnicity,\n",
    "    ConflictEvent,\n",
    "    ContactEvent,\n",
    "    ContactInfo,\n",
    "    Convict,\n",
    "    Crime,\n",
    "    DeclareBankruptcy,\n",
    "    Demonstrate,\n",
    "    Die,\n",
    "    Divorce,\n",
    "    Elect,\n",
    "    Employment,\n",
    "    EndOrg,\n",
    "    EndPosition,\n",
    "    Execute,\n",
    "    Extradite,\n",
    "    Facility,\n",
    "    Family,\n",
    "    Fine,\n",
    "    Founder,\n",
    "    GenAffiliationRelation,\n",
    "    Geographical,\n",
    "    Injure,\n",
    "    InvestorShareholder,\n",
    "    JobTitle,\n",
    "    JusticeEvent,\n",
    "    LastingPersonal,\n",
    "    LifeEvent,\n",
    "    Located,\n",
    "    Location,\n",
    "    Marry,\n",
    "    Meet,\n",
    "    Membership,\n",
    "    MergeOrg,\n",
    "    MovementEvent,\n",
    "    Near,\n",
    "    Nominate,\n",
    "    Numeric,\n",
    "    Organization,\n",
    "    OrganizationAffiliationRelation,\n",
    "    OrgLocationOrigin,\n",
    "    Ownership,\n",
    "    Pardon,\n",
    "    PartWholeRelation,\n",
    "    Person,\n",
    "    PersonalSocialRelation,\n",
    "    PersonellEvent,\n",
    "    PhoneWrite,\n",
    "    PhysicalRelation,\n",
    "    ReleaseParole,\n",
    "    Sentence,\n",
    "    SentenceAct,\n",
    "    SportsAffiliation,\n",
    "    StartOrg,\n",
    "    StartPosition,\n",
    "    StudentAlum,\n",
    "    Subsidiary,\n",
    "    Sue,\n",
    "    Time,\n",
    "    TransactionEvent,\n",
    "    TransferMoney,\n",
    "    TransferOwnership,\n",
    "    Transport,\n",
    "    TrialHearing,\n",
    "    UserOwnerInventorManufacturer,\n",
    "    Vehicle,\n",
    "    Weapon,\n",
    ")"
   ]
  },
  {
   "cell_type": "code",
   "execution_count": 55,
   "id": "2dbc356d",
   "metadata": {},
   "outputs": [],
   "source": [
    "guidelines = {}\n",
    "for data_class in [\n",
    "    GPE,\n",
    "    Acquit,\n",
    "    AgentArtifactRelationRelation,\n",
    "    Appeal,\n",
    "    ArrestJail,\n",
    "    Attack,\n",
    "    BeBorn,\n",
    "    Business,\n",
    "    BusinessEvent,\n",
    "    ChargeIndict,\n",
    "    CitizenResidentReligionEthnicity,\n",
    "    ConflictEvent,\n",
    "    ContactEvent,\n",
    "    ContactInfo,\n",
    "    Convict,\n",
    "    Crime,\n",
    "    DeclareBankruptcy,\n",
    "    Demonstrate,\n",
    "    Die,\n",
    "    Divorce,\n",
    "    Elect,\n",
    "    Employment,\n",
    "    EndOrg,\n",
    "    EndPosition,\n",
    "    Execute,\n",
    "    Extradite,\n",
    "    Facility,\n",
    "    Family,\n",
    "    Fine,\n",
    "    Founder,\n",
    "    GenAffiliationRelation,\n",
    "    Geographical,\n",
    "    Injure,\n",
    "    InvestorShareholder,\n",
    "    JobTitle,\n",
    "    JusticeEvent,\n",
    "    LastingPersonal,\n",
    "    LifeEvent,\n",
    "    Located,\n",
    "    Location,\n",
    "    Marry,\n",
    "    Meet,\n",
    "    Membership,\n",
    "    MergeOrg,\n",
    "    MovementEvent,\n",
    "    Near,\n",
    "    Nominate,\n",
    "    Numeric,\n",
    "    Organization,\n",
    "    OrganizationAffiliationRelation,\n",
    "    OrgLocationOrigin,\n",
    "    Ownership,\n",
    "    Pardon,\n",
    "    PartWholeRelation,\n",
    "    Person,\n",
    "    PersonalSocialRelation,\n",
    "    PersonellEvent,\n",
    "    PhoneWrite,\n",
    "    PhysicalRelation,\n",
    "    ReleaseParole,\n",
    "    Sentence,\n",
    "    SentenceAct,\n",
    "    SportsAffiliation,\n",
    "    StartOrg,\n",
    "    StartPosition,\n",
    "    StudentAlum,\n",
    "    Subsidiary,\n",
    "    Sue,\n",
    "    Time,\n",
    "    TransactionEvent,\n",
    "    TransferMoney,\n",
    "    TransferOwnership,\n",
    "    Transport,\n",
    "    TrialHearing,\n",
    "    UserOwnerInventorManufacturer,\n",
    "    Vehicle,\n",
    "    Weapon,\n",
    "]:\n",
    "    data_class_name = str(data_class).split(\".\")[-1][:-2]\n",
    "    data_class_name = data_class_name.lower()\n",
    "    data_class_name = f\"ace_{data_class_name}\"\n",
    "\n",
    "    guidelines[data_class_name] = {\"en\": [get_guideline(data_class)]}"
   ]
  },
  {
   "cell_type": "code",
   "execution_count": 59,
   "id": "a9cbb48a",
   "metadata": {
    "scrolled": true
   },
   "outputs": [
    {
     "name": "stdout",
     "output_type": "stream",
     "text": [
      "{'ace_gpe': {'en': ['Geo-Political Entities are composite entities comprised of a population, a government, a physical location, and a nation (or province, state, country, city, etc.).']}, 'ace_acquit': {'en': ['An Acquit Event occurs whenever a trial ends but fails to produce a conviction. This will include cases where the charges are dropped by the Prosecutor.']}, 'ace_agentartifactrelationrelation': {'en': ['The AgentArtifact Relation applies when an agent owns an artifact, has possession of an artifact, uses an artifact, or caused an artifact to come into being. Note: if the `arg2` is an Organization, use OrganizationAffiliation when `arg1` is a Person or PartWhole when `arg1` is an Organization or GPE.']}, 'ace_appeal': {'en': ['An Appeal Event occurs whenever the decision of a court is taken to a higher court for review.']}, 'ace_arrestjail': {'en': ['A Jail Event occurs whenever the movement of a Person is constrained by a state actor (a GPE, its Organization subparts, or its Person representatives).']}, 'ace_attack': {'en': ['An Attack Event is defined as a violent physical act causing harm or damage. Attack Events include any such Event not covered by the Injure or Die subtypes, including Events where there is no stated agent.']}, 'ace_beborn': {'en': ['A BeBorn Event occurs whenever a Person Entity is given birth to.']}, 'ace_business': {'en': ['The Business Relation captures the connection between two entities in any professional relationship. Both arguments must be entities of type Person.']}, 'ace_businessevent': {'en': ['A BusinessEvent refers to actions related to Organizations such as: creating, merging, declaring bankruptcy or ending organizations (including government agencies).']}, 'ace_chargeindict': {'en': ['A Charge Event occurs whenever a Person, Organization or GPE is accused of a crime by a state actor (GPE, an Organization subpart of a GPE or a Person representing a GPE).']}, 'ace_citizenresidentreligionethnicity': {'en': ['CitizenResidentReligionEthnicity describes the relation between a Person entity and (1) the GPE in which they have citizenship, (2) the GPE or Location in which they live, the religious Organization or Person entity with which they have affiliation and (3) the GPE or PER entity that indicates their ethnicity.']}, 'ace_conflictevent': {'en': ['A ConflictEvent refers to either violent physical acts causing harm or damage, but are not covered by Life events (conflicts, clashes, fighting, gunfire, ...) or demonstrations (protests, sit-ins, strikes, riots, ...).']}, 'ace_contactevent': {'en': [\"A ContactEvent occurs whenever two or more entities (persons or organization's representatives) come together at a single location and interact with one another face-to-face or directly enages in discussion via written or telephone communication.\"]}, 'ace_contactinfo': {'en': [\"A ContactInfo value refers to contact information values such as telephone numbers, emails, addresses. For example: 'mich...@sumptionandwyland.com', ...\"]}, 'ace_convict': {'en': ['A Convict Event occurs whenever a Try Event ends with a successful prosecution of the Defendant. In other words, a Person, Organization or GPE Entity is convicted whenever that Entity has been found guilty of a Crime.']}, 'ace_crime': {'en': [\"A Crime value refers to the specific reason (crime) that a Person entity can be judged or sentenced for. For example: 'raping', 'murder', 'drug', ...\"]}, 'ace_declarebankruptcy': {'en': ['A DeclareBankruptcy Event will occur whenever an Entity officially requests legal protection from debt collection due to an extremely negative balance sheet.']}, 'ace_demonstrate': {'en': ['A Demonstrate Event occurs whenever a large number of people come together in a public area to protest or demand some sort of official action. Demonstrate Events include, but are not limited to, protests, sit-ins, strikes, and riots.']}, 'ace_die': {'en': ['A Die Event occurs whenever the life of a Person Entity ends. Die Events can be accidental, intentional or self-inflicted']}, 'ace_divorce': {'en': ['A Divorce Event occurs whenever two people are officially divorced under the legal definition of divorce. We do not include separations or church annulments.']}, 'ace_elect': {'en': ['An Elect Event occurs whenever a candidate wins an election designed to determine the Person argument of a StartPosition Event.']}, 'ace_employment': {'en': ['Employment captures the relationship between Persons and their employers. This Relation is only taggable when it can be reasonably assumed that the Person is paid by the ORG or GPE.']}, 'ace_endorg': {'en': [\"An EndOrg Event occurs whenever an Organization ceases to exist (in other words 'goes out of business').\"]}, 'ace_endposition': {'en': ['An EndPosition Event occurs whenever a Person Entity stops working for (or changes offices within) an Organization or GPE.']}, 'ace_execute': {'en': ['An Execute Event occurs whenever the life of a Person is taken by a state actor (a GPE, its Organization subparts, or Person representatives).']}, 'ace_extradite': {'en': ['An Extradite Event occurs whenever a Person is sent by a state actor from one Place (normally the GPE associated with the state actor, but sometimes a Facility under its control) to another place (Location, GPE or Facility) for the purposes of legal proceedings there.']}, 'ace_facility': {'en': ['A facility is a functional, primarily man-made structure. These include buildings and similar facilities designed for human habitation, such as houses, factories, stadiums, office buildings, ... Roughly speaking, facilities are artifacts falling under the domains of architecture and civil engineering.']}, 'ace_family': {'en': ['The Family Relation captures the connection between one entity and another with which it is in any familial relationship. Both arguments must be entities of type Person.']}, 'ace_fine': {'en': ['A Fine Event takes place whenever a state actor issues a financial punishment to a GPE, Person or Organization Entity, typically as a result of court proceedings.']}, 'ace_founder': {'en': ['Founder captures the relationship between an agent (Person, Organization, or GPE) and an Organization or GPE established or set up by that agent.']}, 'ace_genaffiliationrelation': {'en': ['The GenAffiliation Relation describes the citizen, resident, religion or ethnicity relation when the `arg1` is a Person. When the `arg1` is an Organization, the relation describes where it is located, based or does business.']}, 'ace_geographical': {'en': ['The Geographical relation captures the location of a Facility, Location, or GPE in or at or as a part of another Facility, Location, or GPE.']}, 'ace_injure': {'en': ['An Injure Event occurs whenever a Person Entity experiences physical harm. Injure Events can be accidental, intentional or self-inflicted.']}, 'ace_investorshareholder': {'en': ['InvestorShareholder captures the relationship between an agent (Person, Organization, or GPE) and an Organization in which the agent has invested or in which the agent owns shares/stock. Please note that agents may invest in GPEs.']}, 'ace_jobtitle': {'en': [\"A JobTitle value refers to the name of the job or position of a Person entity in a Organization. For example: 'co-chief executive', 'move coordinator', 'interim ED', ...\"]}, 'ace_justiceevent': {'en': ['A JusticeEvent refers to any judicial action such as: arresting, jailing, releasing, granting parole, trial starting, hearing, charging, indicting, suing, convicting, sentencing, fine, executing, extraditing, adquiting, appealing or pardoning a Person entity.']}, 'ace_lastingpersonal': {'en': ['Lasting-Personal captures relationships that meet the following conditions: (1) The relationship must involve personal contact (or a reasonable assumption thereof). (2) There must be some indication or expectation that the relationship exists outside of a particular cited interaction. Both arguments must be entities of type Person.']}, 'ace_lifeevent': {'en': ['A LifeEvent occurs whenever a Person Entity borns, dies, gets married, divorced or gets injured.']}, 'ace_located': {'en': ['The Located relation captures the physical location of an entity. This relation is restricted to people. In other words, `arg1` in Located relations can only be occupied by mentions of Entities of type Person.']}, 'ace_location': {'en': ['Places defined on a geographical or astronomical basis which are mentioned in a document and do not constitute a political entity give rise to Location entities. These include, for example, the solar system, Mars, the Hudson River, Mt. Everest, and Death Valley.']}, 'ace_marry': {'en': ['Marry Events are official Events, where two people are married under the legal definition.']}, 'ace_meet': {'en': ['A Meet Event occurs whenever two or more Entities come together at a single location and interact with one another face-to-face. Meet Events include talks, summits, conferences, meetings, visits, and any other Event where two or more parties get together at some location.']}, 'ace_membership': {'en': ['Membership captures the relationship between an agent and an organization of which the agent is a member. Organizations and GPEs can be members of other Organizations (such as NATO or the UN).']}, 'ace_mergeorg': {'en': ['A MergeOrg Event occurs whenever two or more Organization Entities come together to form a new Organization Entity. This Event applies to any kind of Organization, including government agencies. It also includes joint venture.']}, 'ace_movementevent': {'en': ['A TransportEvent occurs whenever an Artifact (Weapon or Vehicle) or a Person is moved from one Place (GPE, Facility, Location) to another. This event requires the explicit mention of the Artifact or Person.']}, 'ace_near': {'en': ['Near indicates that an entity is explicitly near another entity, but neither entity is a part of the other or located in/at the other.']}, 'ace_nominate': {'en': ['A Nominate Event occurs whenever a Person is proposed for a StartPosition Event by the appropriate Person, through official channels.']}, 'ace_numeric': {'en': [\"A Numeric value refers to relevant numbers, amounts, etc. For example: 'billions of dollars', '50 percent', '100%', ...\"]}, 'ace_organization': {'en': ['Each organization or set of organizations mentioned in a document gives rise to an entity of type Organization. Typical examples are businesses, government units, sports teams, and formally organized music groups.']}, 'ace_organizationaffiliationrelation': {'en': ['The OrganizationAffiliation Relation describes the relations between a Person (or other Organizations) and a related Organization. This relation includes: employment, ownership, founder, student or alumn, sport affiliation, inverstor or shareholder and membership relations.']}, 'ace_orglocationorigin': {'en': ['OrgLocationOrigin captures the relationship between an organization and the Location or GPE where it is located, based, or does business. Note: Subsidiary trumps this relation for government organizations.']}, 'ace_ownership': {'en': ['Ownership captures the relationship between a Person and an Organization owned by that Person. If the `arg2` is not an Organization, use the Agent-Artifact relation.']}, 'ace_pardon': {'en': ['A Pardon Event occurs whenever a head-of-state or their appointed representative lifts a sentence imposed by the judiciary.']}, 'ace_partwholerelation': {'en': ['The PartWhole Relation refers to the semantic relation between two entities that are parts of a larger whole or vice versa. For example, the relation between a country and its states, or between a company and its subsidiaries, are instances of PartWhole relations.']}, 'ace_person': {'en': ['Each distinct person or set of people mentioned in a document refers to an entity of type Person. For example, people may be specified by name (\"John Smith\"), occupation (\"the butcher\"), family relation (\"dad\"), pronoun (\"he\"), etc., or by some combination of these.']}, 'ace_personalsocialrelation': {'en': ['The Personal-Social Relation describe the relationship between people. Both arguments must be entities of type Person. Please note: The arguments of these Relations are not ordered. The Relations are symmetric.']}, 'ace_personellevent': {'en': ['A PersonellEvent occurs when a Person entity changes its job position (JobTitle entity) with respect an Organization entity. It includes when a person starts working, ends working, changes offices within, gets nominated or is elected for a position in a Organization.']}, 'ace_phonewrite': {'en': [\"A PhoneWrite Event occurs when two or more people directly engage in discussion which does not take place 'face-to-face'. To make this Event less open-ended, we limit it to written or telephone communication where at least two parties are specified.\"]}, 'ace_physicalrelation': {'en': ['The Physical Relation captures the physical location relation of entities such as: a Person entity located in a Facility, Location or GPE; or two entities that are near, but neither entity is a part of the other or located in/at the other.']}, 'ace_releaseparole': {'en': ['A Release Event occurs whenever a state actor (GPE, Organization subpart, or Person representative) ends its custody of a Person Entity.']}, 'ace_sentence': {'en': [\"A Sentence value refers to sentences decided by a court or judge for a specific crime. For example: '124 years in prison', 'a sentence', 'death'...\"]}, 'ace_sentenceact': {'en': ['A SentenceAct Event takes place whenever the punishment (particularly incarceration) for the Defendant of a Try Event is issued by a state actor (a GPE, an Organization subpart or a Person representing them)']}, 'ace_sportsaffiliation': {'en': ['Sports-Affiliation captures the relationship between a player, coach, manager, or assistant and his or her affiliation with a sports organization (including sports leagues or divisions as well as individual sports teams).']}, 'ace_startorg': {'en': ['A StartOrg Event occurs whenever a new Organization is created.']}, 'ace_startposition': {'en': ['A StartPosition Event occurs whenever a Person Entity begins working for (or changes offices within) an Organization or GPE. This includes government officials starting their terms, whether elected or appointed.']}, 'ace_studentalum': {'en': ['StudentAlum captures the relationship between a Person and an educational institution the Person attends or attended.']}, 'ace_subsidiary': {'en': ['Subsidiary captures the ownership, administrative, and other hierarchical relationships between organizations and between organizations and GPEs.']}, 'ace_sue': {'en': ['A Sue Event occurs whenever a court proceeding has been initiated for the purposes of determining the liability of a Person, Organization or GPE accused of committing a crime or neglecting a commitment.']}, 'ace_time': {'en': [\"A Time value refers to a specific time frame. Usually known as time expressions. For example: '4 years', 'today', 'December', 'future', ...\"]}, 'ace_transactionevent': {'en': ['A TransactionEvent refers to buying, selling, loaning, borrowing, giving, or receving of Artifacts or Organizations; or giving, receiving, borrowing, or lending Money.']}, 'ace_transfermoney': {'en': ['TransferMoney Events refer to the giving, receiving, borrowing, or lending money when it is not in the context of purchasing something. The canonical examples are: (1) people giving money to organizations (and getting nothing tangible in return); and (2) organizations lending money to people or other orgs.']}, 'ace_transferownership': {'en': ['TransferOwnership Events refer to the buying, selling, loaning, borrowing, giving, or receiving of artifacts or organizations.']}, 'ace_transport': {'en': ['A Transport Event occurs whenever an Artifact (Weapon or Vehicle) or a Person is moved from one Place (GPE, Facility, Location) to another.']}, 'ace_trialhearing': {'en': ['A Trial Event occurs whenever a court proceeding has been initiated for the purposes of determining the guilt or innocence of a Person, Organization or GPE accused of committing a crime.']}, 'ace_userownerinventormanufacturer': {'en': ['This Relation applies when an agent owns an artifact, has possession of an artifact, uses an artifact, or caused an artifact to come into being. Note: if `arg2` is an Organization, use Ownership relation (arg1=PER) or Subsidiary relation (arg1=ORG or GPE).']}, 'ace_vehicle': {'en': [\"A Vehicle entity refers to vehicles that are used for transportation. The vehicles can transport either persons or artifacts. For example: 'car', 'plane', 'cabin', ...\"]}, 'ace_weapon': {'en': [\"A Weapon entity refers to instruments that can be used to deal physical damage, destroy something or kill someone. For example: 'bomb', 'm-16s', 'missile', ...\"]}}\n"
     ]
    }
   ],
   "source": [
    "print(guidelines)"
   ]
  },
  {
   "cell_type": "code",
   "execution_count": 53,
   "id": "2af38abf",
   "metadata": {},
   "outputs": [
    {
     "data": {
      "text/plain": [
       "77"
      ]
     },
     "execution_count": 53,
     "metadata": {},
     "output_type": "execute_result"
    }
   ],
   "source": [
    "len(guidelines)"
   ]
  },
  {
   "cell_type": "markdown",
   "id": "f637e17b",
   "metadata": {},
   "source": [
    "# RAMS "
   ]
  },
  {
   "cell_type": "code",
   "execution_count": 65,
   "id": "09ec6165",
   "metadata": {},
   "outputs": [],
   "source": [
    "from src.tasks.rams.prompts import (\n",
    "    AccidentCrash,\n",
    "    Agreement,\n",
    "    ArrestJailDetain,\n",
    "    ArtifactFailure,\n",
    "    Attack,\n",
    "    Collaborate,\n",
    "    CommandOrder,\n",
    "    CommitmentPromiseExpressIntent,\n",
    "    Convene,\n",
    "    Coup,\n",
    "    DamageDestroy,\n",
    "    Demonstrate,\n",
    "    Die,\n",
    "    Discussion,\n",
    "    DiseaseOutbreak,\n",
    "    Elect,\n",
    "    EndPossition,\n",
    "    FireExplosion,\n",
    "    Formation,\n",
    "    FuneralVigil,\n",
    "    GenericCrime,\n",
    "    InitiateJudicialProcess,\n",
    "    Injure,\n",
    "    InvestigateCrime,\n",
    "    JudicialConsequences,\n",
    "    Legislate,\n",
    "    ManufactureArtifact,\n",
    "    MediaStatement,\n",
    "    MedicalIntervention,\n",
    "    Negotiate,\n",
    "    Prevarication,\n",
    "    PublicStatementInPerson,\n",
    "    RequestAdvice,\n",
    "    SensoryObserve,\n",
    "    Shortage,\n",
    "    Spy,\n",
    "    StartPossition,\n",
    "    TargetAimAt,\n",
    "    ThreatenCoerce,\n",
    "    Transaction,\n",
    "    TransferMoney,\n",
    "    TransferOwnership,\n",
    "    TransportArtifact,\n",
    "    TransportPerson,\n",
    "    Vote,\n",
    "    Yield,\n",
    ")"
   ]
  },
  {
   "cell_type": "code",
   "execution_count": 66,
   "id": "7d76935d",
   "metadata": {},
   "outputs": [],
   "source": [
    "guidelines = {}\n",
    "for data_class in [\n",
    "    AccidentCrash,\n",
    "    Agreement,\n",
    "    ArrestJailDetain,\n",
    "    ArtifactFailure,\n",
    "    Attack,\n",
    "    Collaborate,\n",
    "    CommandOrder,\n",
    "    CommitmentPromiseExpressIntent,\n",
    "    Convene,\n",
    "    Coup,\n",
    "    DamageDestroy,\n",
    "    Demonstrate,\n",
    "    Die,\n",
    "    Discussion,\n",
    "    DiseaseOutbreak,\n",
    "    Elect,\n",
    "    EndPossition,\n",
    "    FireExplosion,\n",
    "    Formation,\n",
    "    FuneralVigil,\n",
    "    GenericCrime,\n",
    "    InitiateJudicialProcess,\n",
    "    Injure,\n",
    "    InvestigateCrime,\n",
    "    JudicialConsequences,\n",
    "    Legislate,\n",
    "    ManufactureArtifact,\n",
    "    MediaStatement,\n",
    "    MedicalIntervention,\n",
    "    Negotiate,\n",
    "    Prevarication,\n",
    "    PublicStatementInPerson,\n",
    "    RequestAdvice,\n",
    "    SensoryObserve,\n",
    "    Shortage,\n",
    "    Spy,\n",
    "    StartPossition,\n",
    "    TargetAimAt,\n",
    "    ThreatenCoerce,\n",
    "    Transaction,\n",
    "    TransferMoney,\n",
    "    TransferOwnership,\n",
    "    TransportArtifact,\n",
    "    TransportPerson,\n",
    "    Vote,\n",
    "    Yield,\n",
    "]:\n",
    "    data_class_name = str(data_class).split(\".\")[-1][:-2]\n",
    "    data_class_name = data_class_name.lower()\n",
    "    data_class_name = f\"rams_{data_class_name}\"\n",
    "\n",
    "    guidelines[data_class_name] = {\"en\": [get_guideline(data_class)]}"
   ]
  },
  {
   "cell_type": "code",
   "execution_count": 67,
   "id": "9b4e4b21",
   "metadata": {},
   "outputs": [
    {
     "name": "stdout",
     "output_type": "stream",
     "text": [
      "{'rams_accidentcrash': {'en': ['An AccidentCrash (disaster) Event occurs when a Driver/Passenger in a Vehicle crashes into CrashObject at some place. The only possible event subtype is: \"AccidentCrash\".']}, 'rams_agreement': {'en': ['An Agreement (government) Event occurs when a Participant signed, rejected, nullified or violated an agreement at some Place. The possible Event subtypes are: \"Accept\", \"RejectNullify\", \"Violate\" or None.']}, 'rams_arrestjaildetain': {'en': ['An ArrestJailDetain (justice) Event occurs when a Jailer arrested or jailed a Detainee for a Crime at some Place. The only possible event subtype is: \"ArrestJailDetain\".']}, 'rams_artifactfailure': {'en': ['An ArtifactFailure (artifact) Event occurs whenever a (mechanical) Artifact failed due to some Instrument at some Place. The possible Event subtypes are: \"MechanicalFailure\" or None.']}, 'rams_attack': {'en': ['An Attack (conflict) Event occurs when an Attacker attacks a Target with some Instrument at some Place. The possible Event subtypes are: \"AirStrikeMissileStrike\", \"BiologicalChemicalPoisonAttack\", \"Bombing\", \"FireArmAttack\", \"Hanging\", \"Invade\", \"SelfDirectedBattle\", \"SetFire\", \"Stabbing\", \"StealRobHijack\", \"Strangling\" or None.']}, 'rams_collaborate': {'en': ['A Collaborate (contact) Event occurs when some Participants communicates (remotely or face-to-face) at some Place. The possible Event subtypes are: \"Correspondence\", \"Meet\" or None.']}, 'rams_commandorder': {'en': ['A CommandOrder (contact) Event occurs when a Communicator communicates with/to Recipient about a Topic at some Place. The possible Event subtypes are: \"Broadcast\", \"Correspondence\", \"Meet\" or None.']}, 'rams_commitmentpromiseexpressintent': {'en': ['A CommitmentPromiseExpressIntent (contact) Event occurs when a Communicator commits, promises, expresses an intent to Recipient about a Topic at some Place. The possible Event subtypes are: \"Broadcast\", \"Correspondence\", \"Meet\" or None.']}, 'rams_convene': {'en': ['A Convene (government) Event occurs when a Convener convened a ConvenedEntity at some Place. The only possible event subtype is: \"Convene\".']}, 'rams_coup': {'en': ['A Coup (conflict) Event occurs when a DeposedEntity was desposed by a DeposingEntity at some Place. The only possible event subtype is: \"Coup\".']}, 'rams_damagedestroy': {'en': ['A DamageDestroy (artifact) Event occurs when an Artifact is damaged or destroyed by some Agent (damager or destroyer) using an Instrument at some Place. The possible Event subtypes are: \"Damage\", \"Destroy\" or None.']}, 'rams_demonstrate': {'en': ['A Demonstrate (conflict) Event occurs when a Demonstrator(s) protest at some Place. The possible Event subtypes are: \"MarchProtestPoliticalGathering\" or None.']}, 'rams_die': {'en': ['A Die (life) Event occurs when a Victim died in some Place. The reason of the death can be: killed by a Killer or by a MedicalIssue, with or without an Instrument. The possible Event subtypes are: \"Violent\", \"NonViolent\" or None.']}, 'rams_discussion': {'en': ['A Discussion (contact) Event occurs when some Participants discuss at some place. The possible Event subtypes are: \"Correspondence\", \"Meet\" or None.']}, 'rams_diseaseoutbreak': {'en': ['A DiseaseOutbreak (disaster) Event occurs when a Disease broke out among some Victims at some Place. The only possible event subtype is: \"DiseaseOutbreak\".']}, 'rams_elect': {'en': ['An Elect (personell) Event occurs when a Voter elects a Candidate in some Place. The possible Event subtypes are: \"WinElection\" or None.']}, 'rams_endpossition': {'en': ['An EndPossition (personell) Event occurs when an Employee stops working on a Organization in some Place. The possible Event subtypes are: \"FiringLayOff\", \"QuitRetire\" or None.']}, 'rams_fireexplosion': {'en': ['A FireExplosion (disaster) Event occurs when a FireExplosionObject caught fire or exploded from an Instrument at some Place. The only possible event subtype is: \"FireExplosion\".']}, 'rams_formation': {'en': ['A Formation (government) Event occurs when some Participant (GPEs) are merged or when a GPE is formed/started by a Founder at some Place. The possible Event subtypes are: \"Merge\", \"Start\", None.']}, 'rams_funeralvigil': {'en': ['A FuneralVigil (contact) Event occurs when some Participants communicate during a funeral or vigil for Deceased at some Place. The possible Event subtypes are: \"Meet\" or None.']}, 'rams_genericcrime': {'en': ['A GenericCrime (crime) Event occurs when a Perpetrator commits a crime against a Victim at some Place. The only possible event subtype is: \"GenericCrime\".']}, 'rams_initiatejudicialprocess': {'en': ['An InitiateJudicialProcess (justice) Event occurs when a Prosecutor charged, indicted, tried or initiated a judicial process pertaining to a Defendant before a JudgeCourt for a Crime in some Place. The possible Event subtypes are: \"ChargeIndict\", \"TrialHearing\" or None.']}, 'rams_injure': {'en': ['An Injure (life) Event occurs when a Victim is injured in some Place. The reasons can be: have extreme hunger or thirst, some physical degradation and sickness or illness by some MedicalIssue either infected by some Disease or imposed by some Injurer. The injures can be caused by some Instrument. The possible Event subtypes are: \"HungerThirst\", \"Physical\", \"Sickness\", \"Violent\" or None']}, 'rams_investigatecrime': {'en': ['An InvestigateCrime (justice) Event occurs when a Investigator investigated a Defendant for a Crime in some Place. The possible Event subtypes are: \"InvestigateCrime\" or None.']}, 'rams_judicialconsequences': {'en': ['A JudicialConsequence (justice) Event occurs when a JudgeCourt decided the consequences, convicted, executed or extradited a Defendant for a Crime in some Place. The possible Event subtypes are: \"Convict\", \"Execute\", \"Extradite\" or None.']}, 'rams_legislate': {'en': ['A Legislate (government) Event occurs when a Government legislature enacted a Law in some Place. The only possible event subtype is: \"Legislate\".']}, 'rams_manufactureartifact': {'en': ['A ManufactureArtifact (manufacture) Event occurs when a Manufacturer manufactured, created or produced an Artifact using an Instrument at some Place. The possible Event subtypes are: \"Build\", \"IntellectualProperty\", \"CreateManufacture\" or None.']}, 'rams_mediastatement': {'en': ['A MediaStatement (contact) Event occurs when a Communicator communicates something on media to some Recipients at some Place. The possible Event subtypes are: \"Broadcast\" or None.']}, 'rams_medicalintervention': {'en': ['A MedicalIntervention (medical) Event occurs when a Treater treated a Patient for a MedicalIssue by means of some Instrument at some Place. The only possible event subtype is: \"Intervention\".']}, 'rams_negotiate': {'en': ['A Negotiate (contact) Event occurs when some Participants participate on a negotiation about some Topic at some Place. The possible Event subtypes are: \"Correspondence\", \"Meet\" or None.']}, 'rams_prevarication': {'en': ['A Prevarication (contact) Event occurs when a Communicator prevaricate about some Topic to a Recipient at some Place. The possible Event subtypes are: \"Broadcast\", \"Correspondence\", \"Meet\" or None.']}, 'rams_publicstatementinperson': {'en': ['A PublicStatementInPerson (contact) Event occurs when a Communicator gives a public statement to a Recipient at some Place. The possible Event subtypes are: \"Broadcast\" or None.']}, 'rams_requestadvice': {'en': ['A RequestAdvice (contact) Event occurs when a Communicator requests something or gives advice about a Topic to a Recipient at some Place. The possible Event subtypes are: \"Broadcast\", \"Correspondence\", \"Meet\" or None.']}, 'rams_sensoryobserve': {'en': ['A SensoryObserve (inspection) Event occurs when a Observer observed, inspected or monitored a ObservedEntity in some Place. The possible Event subtypes are: \"InspectPeopleOrganization\", \"MonitorElection\", \"PhysicalInvestigateInspect\" or None.']}, 'rams_shortage': {'en': ['A Shortage (artifact) Event occurs when a Experiencer experienced a shortage of Supply in some Place. The only possible event subtype is: \"Shortage\".']}, 'rams_spy': {'en': ['An Spy (government) Event occurs when a Spy spied on a ObservedEntity to the benefit of a Beneficiary in some Place. The only possible event subtype is: \"Spy\".']}, 'rams_startpossition': {'en': ['An StartPossition (personell) Event occurs when an Employee starts working on a Organization in some Place. The possible Event subtypes are: \"Hiring\" or None.']}, 'rams_targetaimat': {'en': ['A TargetAimAt (inspection) Event occurs when a Targeter physically targeted a Target with a Instrument at some Place. The only possible event subtype is: \"TargetAimAt\".']}, 'rams_threatencoerce': {'en': ['A ThreatenCoerce (contact) Event occurs when a Communicator threats or coerces a Recipient about a Topic at some Place. The possible Event subtypes are: \"Broadcast\", \"Correspondence\", \"Meet\" or None.']}, 'rams_transaction': {'en': ['A Transaction (transaction) Event occurs when a transaction of some Artifact occurred between some Participants for the benefit of a Beneficiary at some Place. The Participants can be characterized into Giver and Recipient. There can be a preventer that prevents the transaction to occur. The possible Event subtypes are: \"EmbargoSanction\", \"GiftGrantProvideAid\", \"TransferControl\" or None.']}, 'rams_transfermoney': {'en': ['A TransferMoney (transaction) Event occurs when a Giver gives Money to a Recipient for the benefit of Beneficiary in some Place. There can be a preventer that prevents the transaction to occur. The possible Event subtypes are: \"BorrowLend\", \"EmbargoSanction\", \"GiftGrantProvideAid\", \"PayForService\", \"Purchase\" or None.']}, 'rams_transferownership': {'en': ['A TransferOwnership (transaction) Event occurs when a Giver gives some Artifact to a Recipient for the benefit of Beneficiary in some Place. There can be a preventer that prevents the transaction to occur. The possible Event subtypes are: \"BorrowLend\", \"EmbargoSanction\", \"GiftGrantProvideAid\", \"Purchase\" or None.']}, 'rams_transportartifact': {'en': ['A TransportArtifact (transport) Event occurs when a Transporter transports an Artifact from the Origin to the Destination in some Vehicle. For some cases a Preventer entity can prevent the Transporter to transport the Artifact. The possible Event subtypes are: \"BringCarryUnload\", \"DisperseSeparate\", \"Fall\", \"GrantEntry\", \"Hide\", \"LostOfControl\", \"NonViolentThrowLaunch\", \"PreventEntry\", \"PreventExit\", \"ReceiveImport\", \"SendSupplyExport\", \"SmuggleExtract\" or None.']}, 'rams_transportperson': {'en': ['A TransportPerson (transport) Event occurs when a Transporter transports itself or a Passanger from the Origin to the Destination in some Vehicle. For some cases a Preventer entity can prevent the Transporter to transport itself or the Passenger. The possible Event subtypes are: \"BringCarryUnload\", \"DisperseSeparate\", \"EvacuationRescue\", \"Fall\", \"GrantedAsylum\", \"Hide\", \"PreventEntry\", \"PreventExit\", \"SelfMotion\", \"SmuggleExtract\" or None.']}, 'rams_vote': {'en': ['A Vote (government) Event occurs when a Voter votes for a Candidate on a Ballot with a Result in some Place. This event also handles the situations when a Preventer prevents a Voter for voting. The possible Event subtypes are: \"CastVote\", \"PreventVote\", None.']}, 'rams_yield': {'en': ['A Yield (conflict) Event occurs when an Agent (yielder or surrender) yields or surrenders to a Recipient at some Place. But also, when an Agent (retreater) retreats from Origin to some Destination. The possible Event subtypes are: \"Surrender\", \"Retreat\" or None']}}\n"
     ]
    }
   ],
   "source": [
    "print(guidelines)"
   ]
  },
  {
   "cell_type": "code",
   "execution_count": 68,
   "id": "3f57158d",
   "metadata": {},
   "outputs": [
    {
     "data": {
      "text/plain": [
       "46"
      ]
     },
     "execution_count": 68,
     "metadata": {},
     "output_type": "execute_result"
    }
   ],
   "source": [
    "len(guidelines)"
   ]
  },
  {
   "cell_type": "markdown",
   "id": "b0895947",
   "metadata": {},
   "source": [
    "# TACRED"
   ]
  },
  {
   "cell_type": "code",
   "execution_count": 69,
   "id": "b0abf833",
   "metadata": {},
   "outputs": [],
   "source": [
    "from src.tasks.tacred.prompts import (\n",
    "    OrganizationAlternateName,\n",
    "    OrganizationCityOfHeadquarters,\n",
    "    OrganizationCountryOfHeadquarters,\n",
    "    OrganizationDateDissolved,\n",
    "    OrganizationDateFounded,\n",
    "    OrganizationFoundedBy,\n",
    "    OrganizationMember,\n",
    "    OrganizationMemberOf,\n",
    "    OrganizationNumberOfEmployeesMembers,\n",
    "    OrganizationParent,\n",
    "    OrganizationPoliticalReligiousAffiliation,\n",
    "    OrganizationShareholders,\n",
    "    OrganizationStateOrProvinceOfHeadquarters,\n",
    "    OrganizationSubsidiary,\n",
    "    OrganizationTopMembersEmployees,\n",
    "    OrganizationWebsite,\n",
    "    PersonAge,\n",
    "    PersonAlternateNames,\n",
    "    PersonCauseOfDeath,\n",
    "    PersonCharges,\n",
    "    PersonChildren,\n",
    "    PersonCityOfBirth,\n",
    "    PersonCityOfDeath,\n",
    "    PersonCityOfResidence,\n",
    "    PersonCountryOfBirth,\n",
    "    PersonCountryOfDeath,\n",
    "    PersonCountryOfResidence,\n",
    "    PersonDateOfBirth,\n",
    "    PersonDateOfDeath,\n",
    "    PersonEmployeeOrMemberOf,\n",
    "    PersonOrigin,\n",
    "    PersonOtherFamily,\n",
    "    PersonParents,\n",
    "    PersonReligion,\n",
    "    PersonSchoolAttended,\n",
    "    PersonSiblings,\n",
    "    PersonSpouse,\n",
    "    PersonStateOrProvinceOfBirth,\n",
    "    PersonStateOrProvinceOfDeath,\n",
    "    PersonStateOrProvinceOfResidence,\n",
    "    PersonTitle,\n",
    ")"
   ]
  },
  {
   "cell_type": "code",
   "execution_count": 70,
   "id": "1a4e518b",
   "metadata": {},
   "outputs": [],
   "source": [
    "guidelines = {}\n",
    "for data_class in [\n",
    "    OrganizationAlternateName,\n",
    "    OrganizationCityOfHeadquarters,\n",
    "    OrganizationCountryOfHeadquarters,\n",
    "    OrganizationDateDissolved,\n",
    "    OrganizationDateFounded,\n",
    "    OrganizationFoundedBy,\n",
    "    OrganizationMember,\n",
    "    OrganizationMemberOf,\n",
    "    OrganizationNumberOfEmployeesMembers,\n",
    "    OrganizationParent,\n",
    "    OrganizationPoliticalReligiousAffiliation,\n",
    "    OrganizationShareholders,\n",
    "    OrganizationStateOrProvinceOfHeadquarters,\n",
    "    OrganizationSubsidiary,\n",
    "    OrganizationTopMembersEmployees,\n",
    "    OrganizationWebsite,\n",
    "    PersonAge,\n",
    "    PersonAlternateNames,\n",
    "    PersonCauseOfDeath,\n",
    "    PersonCharges,\n",
    "    PersonChildren,\n",
    "    PersonCityOfBirth,\n",
    "    PersonCityOfDeath,\n",
    "    PersonCityOfResidence,\n",
    "    PersonCountryOfBirth,\n",
    "    PersonCountryOfDeath,\n",
    "    PersonCountryOfResidence,\n",
    "    PersonDateOfBirth,\n",
    "    PersonDateOfDeath,\n",
    "    PersonEmployeeOrMemberOf,\n",
    "    PersonOrigin,\n",
    "    PersonOtherFamily,\n",
    "    PersonParents,\n",
    "    PersonReligion,\n",
    "    PersonSchoolAttended,\n",
    "    PersonSiblings,\n",
    "    PersonSpouse,\n",
    "    PersonStateOrProvinceOfBirth,\n",
    "    PersonStateOrProvinceOfDeath,\n",
    "    PersonStateOrProvinceOfResidence,\n",
    "    PersonTitle,\n",
    "]:\n",
    "    data_class_name = str(data_class).split(\".\")[-1][:-2]\n",
    "    data_class_name = data_class_name.lower()\n",
    "    data_class_name = f\"rams_{data_class_name}\"\n",
    "\n",
    "    guidelines[data_class_name] = {\"en\": [get_guideline(data_class)]}"
   ]
  },
  {
   "cell_type": "code",
   "execution_count": 71,
   "id": "11c2526a",
   "metadata": {},
   "outputs": [
    {
     "name": "stdout",
     "output_type": "stream",
     "text": [
      "{'rams_organizationalternatename': {'en': ['The OrganizationAlternateName relation encodes any name used to refer to the assigned organization that is distinct from the \"official\" name. Alternate names may include former names, aliases, alternate spellings, acronyms, abbreviations, translations or transliterations of names, and any official designators such as stock ticker code or airline call sign. Verbalization: {arg1} is also known as {arg2}.']}, 'rams_organizationcityofheadquarters': {'en': ['The OrganizationCityOfHeadquarters relation encodes the location of the headquarters of the assigned organization ath the city, town, or village level. The `arg2` slot must be filled with a city, town, or village name. Verbalization: {arg1} is located in {arg2}.']}, 'rams_organizationcountryofheadquarters': {'en': ['The OrganizationCountryOfHeadquarters relation encodes the country in which the headquarters of the assigned organization are located. The `arg2` slot must be filled with a country name. Verbalization: {arg1} is located in {arg2}.']}, 'rams_organizationdatedissolved': {'en': ['The OrganizationDateDissolved relation encodes the date on which the assigned organization was dissolved. When Companies merge to form a new entity, the original companies should be considered as dissolved. Verbalization: {arg1} dissolved in {arg2}.']}, 'rams_organizationdatefounded': {'en': ['The OrganizationDateFounded relations encodes the date on which the assigned organization was founded. Verbalization: {arg1} was founded in {arg2}.']}, 'rams_organizationfoundedby': {'en': ['The OrganizationFoundedBy relation encodes the person, organization or geopolitical (GPE) entity that founded the assigned organization. Verbalization: {arg1} was founded by {arg2}.']}, 'rams_organizationmember': {'en': ['The OrganizationMember relation encodes the organizations or geopolitical (GPE) entities that are members of the assigned organization (the inverse of OrganizationMemberOf). While similar to OrganizationSubsidiary, OrganizationMember is different because correct `arg2` fillers are distinct entities that are generally capable of autonomously ending their membership with the assigned organization. Verbalization: {arg2} is member of {arg1}.']}, 'rams_organizationmemberof': {'en': ['The OrganizationMemberOf relation encodes the organizations or geopolitical (GPE) entities of which the assigned organization is a member itself (the inverse of OrganizationMember). For the `arg2` slot, the assigned organization is a distinct entity from the parent organization and is generally capable of autonomously ending the membership relation. Verbalization: {arg1} is member of {arg2}.']}, 'rams_organizationnumberofemployeesmembers': {'en': ['The OrganizationNumberOfEmployeesMembers relation encodes the total number of people who are employed by or have membership in the associated organization. Verbalization: {arg1} employs nearly {arg2} people.']}, 'rams_organizationparent': {'en': ['The OrganizationParent relation encodes the organizations or geopolitical (GPE) entities of which the assigned organization is a subsidiary (the inverse of OrganizationSubsidiary). While similar to OrganizationMemberOf, OrganizationParent is different because the assigned organization is subsumed under the parent organization(s), rather than being a distinct entity. Verbalization: {arg1} is a subsidiary or branch of {arg2}.']}, 'rams_organizationpoliticalreligiousaffiliation': {'en': ['The OrganizationPoliticalReligiousAffiliation relation encodes the ideological groups with which the organization is associated. Verbalization: {arg1} has political or religious affiliation with {arg2}.']}, 'rams_organizationshareholders': {'en': ['The OrganizationShareholders relation encodes any organization, person, or geopolitical (GPE) entity that holds shares (majority or not) of the organization. Former shareholders are acceptable responses. Verbalization: {arg2} holds shares in {arg1}.']}, 'rams_organizationstateorprovinceofheadquarters': {'en': ['The OrganizationStateOrProvinceOfHeadquarters relation encodes the location of the headquarters of the assigned organization at the state or province level. The `arg2` slot must be filled with a state or province name. Verbalization: {arg1} is located in {arg2}.']}, 'rams_organizationsubsidiary': {'en': ['The OrganizationSubsidiary relation encodes the organizations that are subsidiaries of the assigned organization (the inverse of OrganizationParent). Subsidiaries are subsumed under the assigned organization, rather than being distinct entities. Verbalization: {arg2} is a subsidiary or branch of {arg1}.']}, 'rams_organizationtopmembersemployees': {'en': [\"The OrganizationTopMembersEmployees relation encodes the persons in high-level, leading positions at the assigned organization. Although the definition of 'leading position' is relatively broad, all Top Member/Employee positions should imply a level of decidion-making authority over the entire assigned organization. Verbalization: {arg1} is a high level member of {arg2}.\"]}, 'rams_organizationwebsite': {'en': [\"The OrganizationWebsite relation encodes an official top level URL for the assigned organization's website. Verbalization: {arg2} is the website of {arg1}.\"]}, 'rams_personage': {'en': ['The PersonAge relation encondes the age of the assigned person. Verbalization: {arg1} is {arg2} years old.']}, 'rams_personalternatenames': {'en': ['The PersonAlaternateNames relation encodes names used to refer to the assigned person that are distinct from the \"official\" name. Alternate names may include aliases, stage names, alternate transliterations, abbreviations, alternate spellings, nicknames, or birth names. Verbalization: {arg1} is also known as {arg2}.']}, 'rams_personcauseofdeath': {'en': [\"The PersonCauseOfDeath relation encodes the explicit cause of death for the assigned person. Verbalization: {arg2} is the cause of {arg1}'s death.\"]}, 'rams_personcharges': {'en': ['The PersonCharges relation encodes the charges or crimes (alleged or convicted) of the assigned person. Verbalization: {arg1} was convicted for {arg2}.']}, 'rams_personchildren': {'en': ['The PersonChildren relation encodes the children of the assigned person, including adopted and step-children. Verbalization: {arg2} is the child of {arg1}.']}, 'rams_personcityofbirth': {'en': ['The PersonCityOfBirth relation encodes the geopolitical (GPE) entity at the municipality level (city, town, or village) in which the assigned person was born. The `arg2` slot must be filled with the name of a city, town, or village. Verbalization: {arg1} was born in {arg2}.']}, 'rams_personcityofdeath': {'en': ['The PersonCityOfDeath relation encodes the geopolitical (GPE) entity at the level of city, town, village in which the assigned person died. The `arg2` slot must be filled with a city, town, or village name. Verbalization: {arg1} died in {arg2}.']}, 'rams_personcityofresidence': {'en': ['The PersonCityOfResidence relations encodes the geopolitical (GPE) entities at the level of city, town, or village in which the assigned person has lived. The `arg2` slot must be filled with the name of a city, town, or village. Verbalization: {arg1} lives or has lived in {arg2}.']}, 'rams_personcountryofbirth': {'en': ['The PersonCountryOfBirth relation encodes the country in which the assigned person was born. Verbalization: {arg1} was born in {arg2}.']}, 'rams_personcountryofdeath': {'en': ['The PersonCountryOfDeath relation encodes the country in which the assigned person died. The `arg2` slot must be filled with the name of a country. Verbalization: {arg1} died in {arg2}.']}, 'rams_personcountryofresidence': {'en': ['The PersonCountryOfResidence relation encodes the country in which the assigned person has lived. Verbalization: {arg1} lives or has lived in {arg2}.']}, 'rams_persondateofbirth': {'en': ['The PersonDateOfBirth relation encodes the date on which the assigned person was born. Verbalization: {arg1} was born on {arg2}.']}, 'rams_persondateofdeath': {'en': [\"The PersonDateOfDeath relation encodes the date of the assigned person's death. Verbalization: {arg1} died in {arg2}.\"]}, 'rams_personemployeeormemberof': {'en': ['The PersonEmployeeOrMemberOf relation encodes the organization or geopolitical (GPE) entities (governments) of which the assigned person has been an employee or member. Verbalization: {arg1} is a member of {arg2}.']}, 'rams_personorigin': {'en': ['The PersonOrigin relation encodes the nationality and/or ethnicity of the assigned person. Verbalization: {arg2} is the nationality of {arg1}.']}, 'rams_personotherfamily': {'en': ['The PersonOtherFamily relation encodes the family other than siblings, children, and spouse (or former spouse). Correct fillers for the `arg2` slot include brothers-in-law, sisters-in-law, grandparents, grandchildren, cousins, aunts, uncles, etc. Verbalization: {arg1} and {arg2} are family.']}, 'rams_personparents': {'en': ['The PersonParents relation encodes the parents of the assigned person. In addition to biological parents, step-parents and adoptive parents are also acceptable answers. Verbalization: {arg2} is the parent of {arg1}.']}, 'rams_personreligion': {'en': ['The PersonReligion relation encodes the religion to which the assigned person has belonged. Former religions are also acceptable answers. Verbalization: {arg2} is the religion of {arg1}.']}, 'rams_personschoolattended': {'en': ['The PersonSchoolAttended relations encodes any school (college, high school, university, etc.) that the assigned person has attended. Verbalization: {arg1} studied in {arg2}.']}, 'rams_personsiblings': {'en': ['The PersonSiblings relation encodes the brothers and sisters of the assigned person. In addition to full siblings, step-siblings and half-siblings are acceptable answers. Brothers- or sisters-in-law are not acceptable responses for PersonSiblings relation. Verbalization: {arg1} and {arg2} are siblings.']}, 'rams_personspouse': {'en': ['The PersonSpouse relation encodes the spouse(s) of the assigned person. Former spouses are acceptable answers. This relation is bidirectional. Verbalization: {arg2} is the spouse of {arg1}.']}, 'rams_personstateorprovinceofbirth': {'en': ['The PersonStateOrProvinceOfBirth relation encodes the geopolitical (GPE) entity at state or province level in which the assigned person was born. The `arg2` slot must be filled with the name of a state or province. Verbalization: {arg1} was born in {arg2}.']}, 'rams_personstateorprovinceofdeath': {'en': ['The PersonStateOrProvinceOfDeath relation encodes the geopolitical (GPE) entity at state or province level in which the assigned person died. The `arg2` slot must be filled with a state or province name. Verbalization: {arg1} died in {arg2}.']}, 'rams_personstateorprovinceofresidence': {'en': ['The PersonStateOrProvinceOfResidence relation encodes the geopolotical (GPE) entities at the state or province level in which the assigned person has lived. The `arg2` slot must be filled with state or province names. Verbalization: {arg1} lives or has lived in {arg2}.']}, 'rams_persontitle': {'en': ['The PersonTitle relation encodes the official or unofficial name(s) of the employment or membership position that have been held by the assigned person. The `arg2` slot must be filled with the name of the position or title. Verbalization: {arg1} is a {arg2}.']}}\n"
     ]
    }
   ],
   "source": [
    "print(guidelines)"
   ]
  },
  {
   "cell_type": "code",
   "execution_count": 72,
   "id": "5b0c83cb",
   "metadata": {},
   "outputs": [
    {
     "data": {
      "text/plain": [
       "41"
      ]
     },
     "execution_count": 72,
     "metadata": {},
     "output_type": "execute_result"
    }
   ],
   "source": [
    "len(guidelines)"
   ]
  },
  {
   "cell_type": "code",
   "execution_count": null,
   "id": "1f5cf5ab",
   "metadata": {},
   "outputs": [],
   "source": []
  }
 ],
 "metadata": {
  "kernelspec": {
   "display_name": "transformers",
   "language": "python",
   "name": "transformers"
  },
  "language_info": {
   "codemirror_mode": {
    "name": "ipython",
    "version": 3
   },
   "file_extension": ".py",
   "mimetype": "text/x-python",
   "name": "python",
   "nbconvert_exporter": "python",
   "pygments_lexer": "ipython3",
   "version": "3.10.10"
  }
 },
 "nbformat": 4,
 "nbformat_minor": 5
}
