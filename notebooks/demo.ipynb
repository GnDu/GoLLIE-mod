{
 "cells": [
  {
   "cell_type": "markdown",
   "id": "8fc67a29",
   "metadata": {},
   "source": [
    "# CoLLIE inference demo\n",
    "\n",
    "This demo allows to test the CoLLIE model with any arbitrary guideline and text input."
   ]
  },
  {
   "cell_type": "code",
   "execution_count": 68,
   "id": "8e8b6927",
   "metadata": {},
   "outputs": [],
   "source": [
    "# Import dependencies\n",
    "\n",
    "# Change path to load CoLLIE src\n",
    "import sys\n",
    "sys.path.append(\"../\")\n",
    "\n",
    "from src.model.load_model import load_model_for_inference\n",
    "from src.tasks.utils_typing import Entity\n",
    "\n",
    "from dataclasses import dataclass\n",
    "from IPython.display import display, Markdown\n",
    "import rich\n",
    "import black"
   ]
  },
  {
   "cell_type": "markdown",
   "id": "6ef80965",
   "metadata": {},
   "source": [
    "### Load the model and tokenizer"
   ]
  },
  {
   "cell_type": "code",
   "execution_count": 79,
   "id": "546d4393",
   "metadata": {},
   "outputs": [
    {
     "name": "stderr",
     "output_type": "stream",
     "text": [
      "WARNING:root:Model /gaueko1/hizkuntza-ereduak/LLaMA/lm/huggingface/7B/ is an decoder-only model. We will load it as a CausalLM model.\n",
      "WARNING:root:Model does not have a pad token, we will use the unk token as pad token.\n"
     ]
    }
   ],
   "source": [
    "%%capture --no-stdout\n",
    "model, tokenizer = load_model_for_inference(\n",
    "    weights_path=\"/gaueko1/hizkuntza-ereduak/LLaMA/lm/huggingface/7B/\",\n",
    "    quantization=4,\n",
    "    lora_weights_name_or_path=\"/ikerlariak/osainz006/models/collie/CoLLIE-7b_lora4_flash\",\n",
    ")"
   ]
  },
  {
   "cell_type": "markdown",
   "id": "0e738e57",
   "metadata": {},
   "source": [
    "### Define the inference function\n",
    "\n",
    "The function takes the input from the last executed cell. **Important**: make sure the last executed cell contains the input for the model!!"
   ]
  },
  {
   "cell_type": "code",
   "execution_count": 80,
   "id": "3d8b56fe",
   "metadata": {},
   "outputs": [],
   "source": [
    "def inference():\n",
    "    prompt = black.format_str(_i, mode=black.Mode())\n",
    "    prompt = prompt + \"\\n\\n# The annotation instances that take place in the text above are listed here\\nresult =\"\n",
    "    \n",
    "    model_input = tokenizer(prompt, add_special_tokens=True, return_tensors=\"pt\")\n",
    "    model_input[\"input_ids\"]=model_input[\"input_ids\"][:,:-1]\n",
    "    \n",
    "    model_ouput = model.generate(\n",
    "        input_ids=model_input.input_ids.to(model.device), \n",
    "        max_new_tokens=128,\n",
    "        do_sample=False,\n",
    "        min_new_tokens=0,\n",
    "        num_beams=1\n",
    "    )\n",
    "    result = tokenizer.batch_decode(model_ouput, skip_special_tokens=True)[0]\n",
    "    result = result.split(\"result = \")[-1]\n",
    "    \n",
    "    return result\n",
    "    "
   ]
  },
  {
   "cell_type": "markdown",
   "id": "d5094b3c",
   "metadata": {},
   "source": [
    "### Guideline and input definition\n",
    "\n",
    "The following cell is used to define the input for the model. The input must contain:\n",
    "  * the guidelines\n",
    "  * the input sentence"
   ]
  },
  {
   "cell_type": "code",
   "execution_count": 94,
   "id": "46d93522",
   "metadata": {},
   "outputs": [],
   "source": [
    "# The following lines describe the task definition\n",
    "@dataclass\n",
    "class LABEL_1(Entity):\n",
    "    \"\"\"Vehicles that have four wheels, for example, automobile.\"\"\"\n",
    "\n",
    "    span: str\n",
    "\n",
    "\n",
    "@dataclass\n",
    "class LABEL_2(Entity):\n",
    "    \"\"\"Vehicles that have two wheels, for example, bicycles.\"\"\"\n",
    "\n",
    "    span: str\n",
    "\n",
    "\n",
    "@dataclass\n",
    "class LABEL_3(Entity):\n",
    "    \"\"\"Vehicles without wheels, for example, submarines\"\"\"\n",
    "    \n",
    "    span: str\n",
    "\n",
    "\n",
    "# This is the text to analyze\n",
    "text = \"The car overtake the motorbike very fast, however, the plane is much faster.\""
   ]
  },
  {
   "cell_type": "code",
   "execution_count": 95,
   "id": "f53e1aff",
   "metadata": {},
   "outputs": [
    {
     "data": {
      "text/html": [
       "<pre style=\"white-space:pre;overflow-x:auto;line-height:normal;font-family:Menlo,'DejaVu Sans Mono',consolas,'Courier New',monospace\"><span style=\"font-weight: bold\">[</span><span style=\"color: #800080; text-decoration-color: #800080; font-weight: bold\">LABEL_1</span><span style=\"font-weight: bold\">(</span><span style=\"color: #808000; text-decoration-color: #808000\">span</span>=<span style=\"color: #008000; text-decoration-color: #008000\">'car'</span><span style=\"font-weight: bold\">)</span>, <span style=\"color: #800080; text-decoration-color: #800080; font-weight: bold\">LABEL_2</span><span style=\"font-weight: bold\">(</span><span style=\"color: #808000; text-decoration-color: #808000\">span</span>=<span style=\"color: #008000; text-decoration-color: #008000\">'motorbike'</span><span style=\"font-weight: bold\">)</span>, <span style=\"color: #800080; text-decoration-color: #800080; font-weight: bold\">LABEL_3</span><span style=\"font-weight: bold\">(</span><span style=\"color: #808000; text-decoration-color: #808000\">span</span>=<span style=\"color: #008000; text-decoration-color: #008000\">'plane'</span><span style=\"font-weight: bold\">)]</span>\n",
       "</pre>\n"
      ],
      "text/plain": [
       "\u001b[1m[\u001b[0m\u001b[1;35mLABEL_1\u001b[0m\u001b[1m(\u001b[0m\u001b[33mspan\u001b[0m=\u001b[32m'car'\u001b[0m\u001b[1m)\u001b[0m, \u001b[1;35mLABEL_2\u001b[0m\u001b[1m(\u001b[0m\u001b[33mspan\u001b[0m=\u001b[32m'motorbike'\u001b[0m\u001b[1m)\u001b[0m, \u001b[1;35mLABEL_3\u001b[0m\u001b[1m(\u001b[0m\u001b[33mspan\u001b[0m=\u001b[32m'plane'\u001b[0m\u001b[1m)\u001b[0m\u001b[1m]\u001b[0m\n"
      ]
     },
     "metadata": {},
     "output_type": "display_data"
    }
   ],
   "source": [
    "result = eval(inference())\n",
    "rich.print(result)"
   ]
  },
  {
   "cell_type": "code",
   "execution_count": 96,
   "id": "6d7ae659",
   "metadata": {},
   "outputs": [
    {
     "data": {
      "text/plain": [
       "'car'"
      ]
     },
     "execution_count": 96,
     "metadata": {},
     "output_type": "execute_result"
    }
   ],
   "source": [
    "result[0].span"
   ]
  },
  {
   "cell_type": "code",
   "execution_count": null,
   "id": "d36ac7ee",
   "metadata": {},
   "outputs": [],
   "source": []
  }
 ],
 "metadata": {
  "kernelspec": {
   "display_name": "Python 3 (ipykernel)",
   "language": "python",
   "name": "python3"
  },
  "language_info": {
   "codemirror_mode": {
    "name": "ipython",
    "version": 3
   },
   "file_extension": ".py",
   "mimetype": "text/x-python",
   "name": "python",
   "nbconvert_exporter": "python",
   "pygments_lexer": "ipython3",
   "version": "3.9.7"
  }
 },
 "nbformat": 4,
 "nbformat_minor": 5
}
