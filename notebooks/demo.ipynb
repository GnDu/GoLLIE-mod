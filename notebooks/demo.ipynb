{
 "cells": [
  {
   "cell_type": "markdown",
   "id": "8fc67a29",
   "metadata": {},
   "source": [
    "# CoLLIE inference demo\n",
    "\n",
    "This demo allows to test the CoLLIE model with any arbitrary guideline and text input."
   ]
  },
  {
   "cell_type": "code",
   "execution_count": 1,
   "id": "8e8b6927",
   "metadata": {},
   "outputs": [
    {
     "name": "stdout",
     "output_type": "stream",
     "text": [
      "[2023-08-01 10:44:54,264] [INFO] [real_accelerator.py:158:get_accelerator] Setting ds_accelerator to cuda (auto detect)\n"
     ]
    }
   ],
   "source": [
    "# Import dependencies\n",
    "\n",
    "# Change path to load CoLLIE src\n",
    "import sys\n",
    "\n",
    "sys.path.append(\"../\")\n",
    "\n",
    "from src.model.load_model import load_model_for_inference\n",
    "from src.tasks.utils_typing import Entity, Event\n",
    "\n",
    "from dataclasses import dataclass\n",
    "from typing import List\n",
    "from IPython.display import display, Markdown\n",
    "import rich\n",
    "import black"
   ]
  },
  {
   "cell_type": "markdown",
   "id": "6ef80965",
   "metadata": {},
   "source": [
    "### Load the model and tokenizer"
   ]
  },
  {
   "cell_type": "code",
   "execution_count": 2,
   "id": "546d4393",
   "metadata": {},
   "outputs": [
    {
     "name": "stderr",
     "output_type": "stream",
     "text": [
      "/ikerlariak/osainz006/venvs/collie/lib/python3.9/site-packages/transformers/tokenization_utils_base.py:1714: FutureWarning: The `use_auth_token` argument is deprecated and will be removed in v5 of Transformers.\n",
      "  warnings.warn(\n",
      "WARNING:root:Model /gaueko1/hizkuntza-ereduak/LLaMA/lm/huggingface/7B/ is an decoder-only model. We will load it as a CausalLM model.\n",
      "/ikerlariak/osainz006/venvs/collie/lib/python3.9/site-packages/transformers/modeling_utils.py:2193: FutureWarning: The `use_auth_token` argument is deprecated and will be removed in v5 of Transformers.\n",
      "  warnings.warn(\n"
     ]
    },
    {
     "data": {
      "application/vnd.jupyter.widget-view+json": {
       "model_id": "6e1e974dacc84de2be7a1f661e508af6",
       "version_major": 2,
       "version_minor": 0
      },
      "text/plain": [
       "Loading checkpoint shards:   0%|          | 0/2 [00:00<?, ?it/s]"
      ]
     },
     "metadata": {},
     "output_type": "display_data"
    },
    {
     "name": "stderr",
     "output_type": "stream",
     "text": [
      "WARNING:root:Model does not have a pad token, we will use the unk token as pad token.\n"
     ]
    }
   ],
   "source": [
    "model, tokenizer = load_model_for_inference(\n",
    "    weights_path=\"/gaueko1/hizkuntza-ereduak/LLaMA/lm/huggingface/7B/\",\n",
    "    quantization=4,\n",
    "    lora_weights_name_or_path=\"/ikerlariak/osainz006/models/collie/CoLLIE-7b_lora4_flash\",\n",
    ")"
   ]
  },
  {
   "cell_type": "markdown",
   "id": "0e738e57",
   "metadata": {},
   "source": [
    "### Define the inference function\n",
    "\n",
    "The function takes the input from the last executed cell. **Important**: make sure the last executed cell contains the input for the model!!"
   ]
  },
  {
   "cell_type": "code",
   "execution_count": 3,
   "id": "3d8b56fe",
   "metadata": {},
   "outputs": [],
   "source": [
    "def inference():\n",
    "    prompt = black.format_str(_i, mode=black.Mode())\n",
    "    prompt = prompt + \"\\n\\n# The annotation instances that take place in the text above are listed here\\nresult =\"\n",
    "\n",
    "    model_input = tokenizer(prompt, add_special_tokens=True, return_tensors=\"pt\")\n",
    "    model_input[\"input_ids\"] = model_input[\"input_ids\"][:, :-1]\n",
    "\n",
    "    model_ouput = model.generate(\n",
    "        input_ids=model_input.input_ids.to(model.device),\n",
    "        max_new_tokens=512,\n",
    "        do_sample=False,\n",
    "        min_new_tokens=0,\n",
    "        num_beams=1,\n",
    "    )\n",
    "    result = tokenizer.batch_decode(model_ouput, skip_special_tokens=True)[0]\n",
    "    result = result.split(\"result = \")[-1]\n",
    "\n",
    "    return result"
   ]
  },
  {
   "cell_type": "markdown",
   "id": "d5094b3c",
   "metadata": {},
   "source": [
    "### Guideline and input definition\n",
    "\n",
    "The following cell is used to define the input for the model. The input must contain:\n",
    "  * the guidelines\n",
    "  * the input sentence"
   ]
  },
  {
   "cell_type": "code",
   "execution_count": 158,
   "id": "c81c1dfe",
   "metadata": {},
   "outputs": [],
   "source": [
    "# The following lines describe the task definition\n",
    "@dataclass\n",
    "class DatabreachAttack(Event):\n",
    "    \"\"\"An DatabreachAttack Event happens when an attacker compromises a system\n",
    "    to later remove or expose the data, e.g., to sell, publish or make it accessible.\n",
    "    \"\"\"\n",
    "\n",
    "    mention: str  # The text span that triggers the event, such as 'exposed', 'published', 'steal', ...\n",
    "    attacker: List[str]  # The agent (person or organization) of the attack\n",
    "    attack_pattern: List[str]  # How the attack is done\n",
    "    victim: List[str]  # The device, organization, person, product or website victim of the attack\n",
    "    number_of_victim: List[str]  # The number of victims affected by the attack\n",
    "    compromised_data: List[str]  # The data being compromised: 'information', 'data', ...\n",
    "    number_of_data: List[str]  # The amount of compromised data\n",
    "    damage_amount: List[str]  # The amount of damage done to the victim\n",
    "    tool: List[str]  # The file, malware or website used to attack\n",
    "    purpose: List[str]  # The reason or purpose behind the attack\n",
    "    place: List[str]  # Where the attack occurred\n",
    "    time: List[str]  # When the attack occurred\n",
    "\n",
    "\n",
    "@dataclass\n",
    "class PhisingAttack(Event):\n",
    "    \"\"\"A PhisingAttack Event happens when an attacker imitates another entity, in\n",
    "    an attempt to get a victim to access malicious materials, such as a website or\n",
    "    attachments.\n",
    "    \"\"\"\n",
    "\n",
    "    mention: str  # The text span that triggers the event, such as 'phising', ...\n",
    "    attacker: str  # The agent (person or organization) of the attack\n",
    "    attack_method: List[str]  # How the attack is done\n",
    "    victim: List[str]  # The device, organization, person, product or website victim of the attack\n",
    "    trusted_entity: List[str]  #\n",
    "    damage_amount: List[str]  # The amount of damage done to the victim\n",
    "    tool: List[str]  # The file, malware or website used to attack\n",
    "    purpose: List[str]  # What wants to be attacked or stolen\n",
    "    place: List[str]  # Where the attack occurred\n",
    "    time: List[str]  # When the attack occurred\n",
    "\n",
    "\n",
    "@dataclass\n",
    "class VulnerabilityDiscover(Event):\n",
    "    \"\"\"A VulnerabilityDiscover Event happens when a security expert or other entity,\n",
    "    like a company, finds a software vulnerability.\"\"\"\n",
    "\n",
    "    mention: str  # The text span that triggers the event, such as 'found', ...\n",
    "    cve: List[str]  # The vulnerability identifier: such 'CVE-2018-5003'\n",
    "    capabilities: List[str]  # The capabilities of the vulnerability\n",
    "    discoverer: List[str]  # The entity that discovered the vulnerability\n",
    "    supported_platform: List[str]  # The platforms that support the vulnerability\n",
    "    vulnerability: List[str]  # The vulnerabilities, such as 'vulnerability', ...\n",
    "    vulnerable_system: List[str]  # The systems vulnerable to the vulnerability\n",
    "    system_owner: List[str]  # The owners of the vulnerable system\n",
    "    system_version: List[str]  # The version of the vulnerable system\n",
    "    time: List[str]  # When the attack occurred\n",
    "\n",
    "\n",
    "# The list called result contains the instances for the following events according to the guidelines above:\n",
    "#    - \"purports to be\" triggers a PhisingAttack event.\n",
    "#\n",
    "text = \"The attachment purports to be a flight confirmation or receipt but, of course, it's neither of these things.\""
   ]
  },
  {
   "cell_type": "code",
   "execution_count": 151,
   "id": "ab360a57",
   "metadata": {},
   "outputs": [],
   "source": [
    "# The following lines describe the task definition\n",
    "@dataclass\n",
    "class VulnerabilityPatch(Event):\n",
    "    \"\"\"A VulnerabiltyPatch Event happens when  software company addresses a known \n",
    "    vulnerability by releasing or describing an appropriate update.\n",
    "    \"\"\"\n",
    "    \n",
    "    mention: str\n",
    "    \"\"\"The text span that triggers the event, such as:\n",
    "        - 'patch', 'fixed', 'addresses', 'implemented',\n",
    "        'released', ...\n",
    "    \"\"\"\n",
    "    cve: List[str]  # The vulnerability identifier: such 'CVE-2018-5003'\n",
    "    issues_addressed: List[str] # What did the patch fixed\n",
    "    supported_platform: List[str]  # The platforms that support the vulnerability\n",
    "    vulnerability: List[str]  # The vulnerability, such as 'vulnerability'\n",
    "    vulnerable_system: List[str]  # The affected systems, such as 'infraestructures'\n",
    "    releaser: List[str] # The entity releasing the patch\n",
    "    patch: List[str] # What was the patch about\n",
    "    patch_number: List[str] # Nunber or name of the patch\n",
    "    system_version: List[str]  # The version of the vulnerable system\n",
    "    time: List[str]  # When was the patch implemented, the date\n",
    "\n",
    "\n",
    "# The list called result contains the instances for the following events according to the guidelines above:\n",
    "#    - \"has released\" triggers a VulnerabilityPatch event.\n",
    "#    - \"patch\" triggers a VulnerabilityPatch event.\n",
    "#\n",
    "text = \"Microsoft has released an emergency security update to patch below-reported crazy bad remote code execution vulnerability in its Microsoft Malware Protection Engine (MMPE) that affects Windows 7, 8.1, RT and 10 computers, as well as Windows Server 2016 operating systems.\""
   ]
  },
  {
   "cell_type": "code",
   "execution_count": 147,
   "id": "2c679111",
   "metadata": {},
   "outputs": [],
   "source": [
    "# The following lines describe the task definition\n",
    "@dataclass\n",
    "class VulnerabilityPatch(Event):\n",
    "    \n",
    "    mention: str\n",
    "    cve: List[str]\n",
    "    issues_addressed: List[str]\n",
    "    supported_platform: List[str]\n",
    "    vulnerability: List[str]\n",
    "    vulnerable_system: List[str]\n",
    "    releaser: List[str]\n",
    "    patch: List[str]\n",
    "    patch_number: List[str]\n",
    "    system_version: List[str]\n",
    "    time: List[str]\n",
    "\n",
    "\n",
    "# The list called result contains the instances for the following events according to the guidelines above:\n",
    "#    - \"has released\" triggers a VulnerabilityPatch event.\n",
    "#    - \"patch\" triggers a VulnerabilityPatch event.\n",
    "#\n",
    "text = \"Microsoft has released an emergency security update to patch below-reported crazy bad remote code execution vulnerability in its Microsoft Malware Protection Engine (MMPE) that affects Windows 7, 8.1, RT and 10 computers, as well as Windows Server 2016 operating systems.\""
   ]
  },
  {
   "cell_type": "code",
   "execution_count": 145,
   "id": "3a77381e",
   "metadata": {},
   "outputs": [],
   "source": [
    "# The following lines describe the task definition\n",
    "@dataclass\n",
    "class DatabreachAttack(Event):\n",
    "    \"\"\"An DatabreachAttack Event happens when an attacker compromises a system\n",
    "    to later remove or expose the data, e.g., to sell, publish or make it accessible.\n",
    "    \"\"\"\n",
    "\n",
    "    mention: str\n",
    "    \"\"\"The text span that triggers the event, such as:\n",
    "        - 'attack', 'expose', 'publish', 'steal', ...\n",
    "    \"\"\"\n",
    "\n",
    "\n",
    "@dataclass\n",
    "class PhisingAttack(Event):\n",
    "    \"\"\"A PhisingAttack Event happens when an attacker imitates another entity, in\n",
    "    an attempt to get a victim to access malicious materials, such as a website or\n",
    "    attachments.\n",
    "    \"\"\"\n",
    "\n",
    "    mention: str\n",
    "    \"\"\"The text span that triggers the event, such as:\n",
    "        - 'attack', 'purports to be', 'dupe', ...\n",
    "        'masquerading as', 'pretending to be', 'scam', ...\n",
    "        'BEC (Business Email Compromise)'\n",
    "    \"\"\"\n",
    "\n",
    "\n",
    "@dataclass\n",
    "class RansomAttack(Event):\n",
    "    \"\"\"A RansomAttack Event happens when n attacker breaks into a system and\n",
    "    encrypts data, and will only decrypt the data for a ransom payment.\n",
    "    \"\"\"\n",
    "\n",
    "    mention: str\n",
    "    \"\"\"The text span that triggers the event, such as:\n",
    "        - 'attack', ransomware', 'selling', 'ransom', ...\n",
    "    \"\"\"\n",
    "\n",
    "\n",
    "@dataclass\n",
    "class VulnerabilityDiscover(Event):\n",
    "    \"\"\"A VulnerabilityDiscover Event happens when a security expert or other entity,\n",
    "    like a company, finds a software vulnerability.\"\"\"\n",
    "\n",
    "    mention: str\n",
    "    \"\"\"The text span that triggers the event, such as:\n",
    "        - 'found', 'exploit', 'vulnerability', ...\n",
    "    \"\"\"\n",
    "\n",
    "\n",
    "@dataclass\n",
    "class VulnerabilityPatch(Event):\n",
    "    \"\"\"A VulnerabiltyPatch Event happens when  software company addresses a known \n",
    "    vulnerability by releasing or describing an appropriate update.\n",
    "    \"\"\"\n",
    "    \n",
    "    mention: str\n",
    "    \"\"\"The text span that triggers the event, such as:\n",
    "        - 'patch', 'fixed', 'addresses', 'implemented',\n",
    "        'released', ...\n",
    "    \"\"\"\n",
    "\n",
    "\n",
    "# This is the text to analyze\n",
    "text = \"Microsoft has released an emergency security update to patch below-reported crazy bad remote code execution vulnerability in its Microsoft Malware Protection Engine (MMPE) that affects Windows 7, 8.1, RT and 10 computers, as well as Windows Server 2016 operating systems.\""
   ]
  },
  {
   "cell_type": "code",
   "execution_count": 139,
   "id": "0dfd636d",
   "metadata": {},
   "outputs": [],
   "source": [
    "# The following lines describe the task definition\n",
    "@dataclass\n",
    "class DatabreachAttack(Event):\n",
    "    mention: str\n",
    "\n",
    "\n",
    "@dataclass\n",
    "class PhisingAttack(Event):\n",
    "    mention: str\n",
    "\n",
    "\n",
    "@dataclass\n",
    "class RansomAttack(Event):\n",
    "    mention: str\n",
    "\n",
    "\n",
    "@dataclass\n",
    "class VulnerabilityDiscover(Event):\n",
    "    mention: str\n",
    "        \n",
    "@dataclass\n",
    "class VulnerabilityPatch(Event):\n",
    "    mention: str\n",
    "\n",
    "\n",
    "# This is the text to analyze\n",
    "text = \"Microsoft has released an emergency security update to patch below-reported crazy bad remote code execution vulnerability in its Microsoft Malware Protection Engine (MMPE) that affects Windows 7, 8.1, RT and 10 computers, as well as Windows Server 2016 operating systems.\""
   ]
  },
  {
   "cell_type": "code",
   "execution_count": 152,
   "id": "cc88f6e5",
   "metadata": {},
   "outputs": [
    {
     "data": {
      "text/html": [
       "<pre style=\"white-space:pre;overflow-x:auto;line-height:normal;font-family:Menlo,'DejaVu Sans Mono',consolas,'Courier New',monospace\"><span style=\"font-weight: bold\">[</span>\n",
       "    <span style=\"color: #800080; text-decoration-color: #800080; font-weight: bold\">VulnerabilityPatch</span><span style=\"font-weight: bold\">(</span>\n",
       "        <span style=\"color: #808000; text-decoration-color: #808000\">mention</span>=<span style=\"color: #008000; text-decoration-color: #008000\">\"has released\"</span>,\n",
       "        <span style=\"color: #808000; text-decoration-color: #808000\">cve</span>=<span style=\"font-weight: bold\">[]</span>,\n",
       "        <span style=\"color: #808000; text-decoration-color: #808000\">issues_addressed</span>=<span style=\"font-weight: bold\">[]</span>,\n",
       "        <span style=\"color: #808000; text-decoration-color: #808000\">supported_platform</span>=<span style=\"font-weight: bold\">[</span><span style=\"color: #008000; text-decoration-color: #008000\">\"Windows 7\"</span>, <span style=\"color: #008000; text-decoration-color: #008000\">\"8.1\"</span>, <span style=\"color: #008000; text-decoration-color: #008000\">\"RT\"</span>, <span style=\"color: #008000; text-decoration-color: #008000\">\"10\"</span><span style=\"font-weight: bold\">]</span>,\n",
       "        <span style=\"color: #808000; text-decoration-color: #808000\">vulnerability</span>=<span style=\"font-weight: bold\">[]</span>,\n",
       "        <span style=\"color: #808000; text-decoration-color: #808000\">vulnerable_system</span>=<span style=\"font-weight: bold\">[</span><span style=\"color: #008000; text-decoration-color: #008000\">\"computers\"</span>, <span style=\"color: #008000; text-decoration-color: #008000\">\"operating systems\"</span><span style=\"font-weight: bold\">]</span>,\n",
       "        <span style=\"color: #808000; text-decoration-color: #808000\">releaser</span>=<span style=\"font-weight: bold\">[</span><span style=\"color: #008000; text-decoration-color: #008000\">\"Microsoft\"</span><span style=\"font-weight: bold\">]</span>,\n",
       "        <span style=\"color: #808000; text-decoration-color: #808000\">patch</span>=<span style=\"font-weight: bold\">[]</span>,\n",
       "        <span style=\"color: #808000; text-decoration-color: #808000\">patch_number</span>=<span style=\"font-weight: bold\">[]</span>,\n",
       "        <span style=\"color: #808000; text-decoration-color: #808000\">system_version</span>=<span style=\"font-weight: bold\">[]</span>,\n",
       "        <span style=\"color: #808000; text-decoration-color: #808000\">time</span>=<span style=\"font-weight: bold\">[]</span>,\n",
       "    <span style=\"font-weight: bold\">)</span>,\n",
       "    <span style=\"color: #800080; text-decoration-color: #800080; font-weight: bold\">VulnerabilityPatch</span><span style=\"font-weight: bold\">(</span>\n",
       "        <span style=\"color: #808000; text-decoration-color: #808000\">mention</span>=<span style=\"color: #008000; text-decoration-color: #008000\">\"patch\"</span>,\n",
       "        <span style=\"color: #808000; text-decoration-color: #808000\">cve</span>=<span style=\"font-weight: bold\">[]</span>,\n",
       "        <span style=\"color: #808000; text-decoration-color: #808000\">issues_addressed</span>=<span style=\"font-weight: bold\">[]</span>,\n",
       "        <span style=\"color: #808000; text-decoration-color: #808000\">supported_platform</span>=<span style=\"font-weight: bold\">[]</span>,\n",
       "        <span style=\"color: #808000; text-decoration-color: #808000\">vulnerability</span>=<span style=\"font-weight: bold\">[]</span>,\n",
       "        <span style=\"color: #808000; text-decoration-color: #808000\">vulnerable_system</span>=<span style=\"font-weight: bold\">[]</span>,\n",
       "        <span style=\"color: #808000; text-decoration-color: #808000\">releaser</span>=<span style=\"font-weight: bold\">[]</span>,\n",
       "        <span style=\"color: #808000; text-decoration-color: #808000\">patch</span>=<span style=\"font-weight: bold\">[]</span>,\n",
       "        <span style=\"color: #808000; text-decoration-color: #808000\">patch_number</span>=<span style=\"font-weight: bold\">[]</span>,\n",
       "        <span style=\"color: #808000; text-decoration-color: #808000\">system_version</span>=<span style=\"font-weight: bold\">[]</span>,\n",
       "        <span style=\"color: #808000; text-decoration-color: #808000\">time</span>=<span style=\"font-weight: bold\">[]</span>,\n",
       "    <span style=\"font-weight: bold\">)</span>,\n",
       "<span style=\"font-weight: bold\">]</span>\n",
       "\n",
       "</pre>\n"
      ],
      "text/plain": [
       "\u001b[1m[\u001b[0m\n",
       "    \u001b[1;35mVulnerabilityPatch\u001b[0m\u001b[1m(\u001b[0m\n",
       "        \u001b[33mmention\u001b[0m=\u001b[32m\"has\u001b[0m\u001b[32m released\"\u001b[0m,\n",
       "        \u001b[33mcve\u001b[0m=\u001b[1m[\u001b[0m\u001b[1m]\u001b[0m,\n",
       "        \u001b[33missues_addressed\u001b[0m=\u001b[1m[\u001b[0m\u001b[1m]\u001b[0m,\n",
       "        \u001b[33msupported_platform\u001b[0m=\u001b[1m[\u001b[0m\u001b[32m\"Windows 7\"\u001b[0m, \u001b[32m\"8.1\"\u001b[0m, \u001b[32m\"RT\"\u001b[0m, \u001b[32m\"10\"\u001b[0m\u001b[1m]\u001b[0m,\n",
       "        \u001b[33mvulnerability\u001b[0m=\u001b[1m[\u001b[0m\u001b[1m]\u001b[0m,\n",
       "        \u001b[33mvulnerable_system\u001b[0m=\u001b[1m[\u001b[0m\u001b[32m\"computers\"\u001b[0m, \u001b[32m\"operating systems\"\u001b[0m\u001b[1m]\u001b[0m,\n",
       "        \u001b[33mreleaser\u001b[0m=\u001b[1m[\u001b[0m\u001b[32m\"Microsoft\"\u001b[0m\u001b[1m]\u001b[0m,\n",
       "        \u001b[33mpatch\u001b[0m=\u001b[1m[\u001b[0m\u001b[1m]\u001b[0m,\n",
       "        \u001b[33mpatch_number\u001b[0m=\u001b[1m[\u001b[0m\u001b[1m]\u001b[0m,\n",
       "        \u001b[33msystem_version\u001b[0m=\u001b[1m[\u001b[0m\u001b[1m]\u001b[0m,\n",
       "        \u001b[33mtime\u001b[0m=\u001b[1m[\u001b[0m\u001b[1m]\u001b[0m,\n",
       "    \u001b[1m)\u001b[0m,\n",
       "    \u001b[1;35mVulnerabilityPatch\u001b[0m\u001b[1m(\u001b[0m\n",
       "        \u001b[33mmention\u001b[0m=\u001b[32m\"patch\"\u001b[0m,\n",
       "        \u001b[33mcve\u001b[0m=\u001b[1m[\u001b[0m\u001b[1m]\u001b[0m,\n",
       "        \u001b[33missues_addressed\u001b[0m=\u001b[1m[\u001b[0m\u001b[1m]\u001b[0m,\n",
       "        \u001b[33msupported_platform\u001b[0m=\u001b[1m[\u001b[0m\u001b[1m]\u001b[0m,\n",
       "        \u001b[33mvulnerability\u001b[0m=\u001b[1m[\u001b[0m\u001b[1m]\u001b[0m,\n",
       "        \u001b[33mvulnerable_system\u001b[0m=\u001b[1m[\u001b[0m\u001b[1m]\u001b[0m,\n",
       "        \u001b[33mreleaser\u001b[0m=\u001b[1m[\u001b[0m\u001b[1m]\u001b[0m,\n",
       "        \u001b[33mpatch\u001b[0m=\u001b[1m[\u001b[0m\u001b[1m]\u001b[0m,\n",
       "        \u001b[33mpatch_number\u001b[0m=\u001b[1m[\u001b[0m\u001b[1m]\u001b[0m,\n",
       "        \u001b[33msystem_version\u001b[0m=\u001b[1m[\u001b[0m\u001b[1m]\u001b[0m,\n",
       "        \u001b[33mtime\u001b[0m=\u001b[1m[\u001b[0m\u001b[1m]\u001b[0m,\n",
       "    \u001b[1m)\u001b[0m,\n",
       "\u001b[1m]\u001b[0m\n",
       "\n"
      ]
     },
     "metadata": {},
     "output_type": "display_data"
    }
   ],
   "source": [
    "result = inference()\n",
    "rich.print(result)"
   ]
  },
  {
   "cell_type": "code",
   "execution_count": 94,
   "id": "46d93522",
   "metadata": {},
   "outputs": [],
   "source": [
    "# The following lines describe the task definition\n",
    "@dataclass\n",
    "class LABEL_1(Entity):\n",
    "    \"\"\"Vehicles that have four wheels, for example, automobile.\"\"\"\n",
    "\n",
    "    span: str\n",
    "\n",
    "\n",
    "@dataclass\n",
    "class LABEL_2(Entity):\n",
    "    \"\"\"Vehicles that have two wheels, for example, bicycles.\"\"\"\n",
    "\n",
    "    span: str\n",
    "\n",
    "\n",
    "@dataclass\n",
    "class LABEL_3(Entity):\n",
    "    \"\"\"Vehicles without wheels, for example, submarines\"\"\"\n",
    "\n",
    "    span: str\n",
    "\n",
    "\n",
    "# This is the text to analyze\n",
    "text = \"The car overtake the motorbike very fast, however, the plane is much faster.\""
   ]
  },
  {
   "cell_type": "code",
   "execution_count": 95,
   "id": "f53e1aff",
   "metadata": {},
   "outputs": [
    {
     "data": {
      "text/html": [
       "<pre style=\"white-space:pre;overflow-x:auto;line-height:normal;font-family:Menlo,'DejaVu Sans Mono',consolas,'Courier New',monospace\"><span style=\"font-weight: bold\">[</span><span style=\"color: #800080; text-decoration-color: #800080; font-weight: bold\">LABEL_1</span><span style=\"font-weight: bold\">(</span><span style=\"color: #808000; text-decoration-color: #808000\">span</span>=<span style=\"color: #008000; text-decoration-color: #008000\">'car'</span><span style=\"font-weight: bold\">)</span>, <span style=\"color: #800080; text-decoration-color: #800080; font-weight: bold\">LABEL_2</span><span style=\"font-weight: bold\">(</span><span style=\"color: #808000; text-decoration-color: #808000\">span</span>=<span style=\"color: #008000; text-decoration-color: #008000\">'motorbike'</span><span style=\"font-weight: bold\">)</span>, <span style=\"color: #800080; text-decoration-color: #800080; font-weight: bold\">LABEL_3</span><span style=\"font-weight: bold\">(</span><span style=\"color: #808000; text-decoration-color: #808000\">span</span>=<span style=\"color: #008000; text-decoration-color: #008000\">'plane'</span><span style=\"font-weight: bold\">)]</span>\n",
       "</pre>\n"
      ],
      "text/plain": [
       "\u001b[1m[\u001b[0m\u001b[1;35mLABEL_1\u001b[0m\u001b[1m(\u001b[0m\u001b[33mspan\u001b[0m=\u001b[32m'car'\u001b[0m\u001b[1m)\u001b[0m, \u001b[1;35mLABEL_2\u001b[0m\u001b[1m(\u001b[0m\u001b[33mspan\u001b[0m=\u001b[32m'motorbike'\u001b[0m\u001b[1m)\u001b[0m, \u001b[1;35mLABEL_3\u001b[0m\u001b[1m(\u001b[0m\u001b[33mspan\u001b[0m=\u001b[32m'plane'\u001b[0m\u001b[1m)\u001b[0m\u001b[1m]\u001b[0m\n"
      ]
     },
     "metadata": {},
     "output_type": "display_data"
    }
   ],
   "source": [
    "result = eval(inference())\n",
    "rich.print(result)"
   ]
  },
  {
   "cell_type": "code",
   "execution_count": 96,
   "id": "6d7ae659",
   "metadata": {},
   "outputs": [
    {
     "data": {
      "text/plain": [
       "'car'"
      ]
     },
     "execution_count": 96,
     "metadata": {},
     "output_type": "execute_result"
    }
   ],
   "source": [
    "result[0].span"
   ]
  },
  {
   "cell_type": "code",
   "execution_count": null,
   "id": "d36ac7ee",
   "metadata": {},
   "outputs": [],
   "source": []
  }
 ],
 "metadata": {
  "kernelspec": {
   "display_name": "Python 3 (ipykernel)",
   "language": "python",
   "name": "python3"
  },
  "language_info": {
   "codemirror_mode": {
    "name": "ipython",
    "version": 3
   },
   "file_extension": ".py",
   "mimetype": "text/x-python",
   "name": "python",
   "nbconvert_exporter": "python",
   "pygments_lexer": "ipython3",
   "version": "3.9.7"
  }
 },
 "nbformat": 4,
 "nbformat_minor": 5
}
