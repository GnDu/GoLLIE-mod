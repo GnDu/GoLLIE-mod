{
 "cells": [
  {
   "cell_type": "code",
   "execution_count": 2,
   "id": "e7364c1b",
   "metadata": {},
   "outputs": [],
   "source": [
    "import sys\n",
    "\n",
    "# cd to ../src\n",
    "sys.path.append(\"../src\")"
   ]
  },
  {
   "cell_type": "code",
   "execution_count": 3,
   "id": "c4a42799",
   "metadata": {},
   "outputs": [],
   "source": [
    "from model.load_model import load_model_for_inference\n",
    "import random\n",
    "import tempfile\n",
    "import json\n",
    "\n",
    "\n",
    "import logging\n",
    "import os\n",
    "\n",
    "\n",
    "import torch\n",
    "import torch.nn as nn\n",
    "\n",
    "\n",
    "from transformers import (\n",
    "    PreTrainedTokenizerBase,\n",
    ")\n",
    "from transformers.modeling_utils import unwrap_model\n",
    "from transformers.models.auto.modeling_auto import MODEL_FOR_CAUSAL_LM_MAPPING_NAMES\n",
    "\n",
    "logging.basicConfig(level=logging.INFO)"
   ]
  },
  {
   "cell_type": "code",
   "execution_count": 5,
   "id": "9e1ed1e9",
   "metadata": {},
   "outputs": [
    {
     "name": "stderr",
     "output_type": "stream",
     "text": [
      "INFO:root:Loading model from /gaueko1/hizkuntza-ereduak/LLaMA/lm/huggingface/7B/\n",
      "INFO:root:We will load the model using the following device map: None\n",
      "INFO:root:Bits and Bytes config: {\n",
      "    \"load_in_8bit\": false,\n",
      "    \"load_in_4bit\": true,\n",
      "    \"llm_int8_threshold\": 6.0,\n",
      "    \"llm_int8_skip_modules\": null,\n",
      "    \"llm_int8_enable_fp32_cpu_offload\": false,\n",
      "    \"llm_int8_has_fp16_weight\": false,\n",
      "    \"bnb_4bit_quant_type\": \"nf4\",\n",
      "    \"bnb_4bit_use_double_quant\": true,\n",
      "    \"bnb_4bit_compute_dtype\": \"float16\"\n",
      "}\n",
      "WARNING:root:Model /gaueko1/hizkuntza-ereduak/LLaMA/lm/huggingface/7B/ is an encoder-only model. We will load it as a CausalLM model.\n"
     ]
    },
    {
     "name": "stdout",
     "output_type": "stream",
     "text": [
      "\n",
      "===================================BUG REPORT===================================\n",
      "Welcome to bitsandbytes. For bug reports, please run\n",
      "\n",
      "python -m bitsandbytes\n",
      "\n",
      " and submit this information together with your error trace to: https://github.com/TimDettmers/bitsandbytes/issues\n",
      "================================================================================\n",
      "bin /ikerlariak/igarcia945/envs/pytorch2/lib/python3.9/site-packages/bitsandbytes/libbitsandbytes_cuda113.so\n"
     ]
    },
    {
     "name": "stderr",
     "output_type": "stream",
     "text": [
      "/ikerlariak/igarcia945/envs/pytorch2/lib/python3.9/site-packages/bitsandbytes/cuda_setup/main.py:149: UserWarning: WARNING: The following directories listed in your path were found to be non-existent: {PosixPath('pmix-server'), PosixPath('2964042')}\n",
      "  warn(msg)\n",
      "/ikerlariak/igarcia945/envs/pytorch2/lib/python3.9/site-packages/bitsandbytes/cuda_setup/main.py:149: UserWarning: WARNING: The following directories listed in your path were found to be non-existent: {PosixPath('/usr/java/java16')}\n",
      "  warn(msg)\n",
      "/ikerlariak/igarcia945/envs/pytorch2/lib/python3.9/site-packages/bitsandbytes/cuda_setup/main.py:149: UserWarning: WARNING: The following directories listed in your path were found to be non-existent: {PosixPath('/soft_ixa_linux')}\n",
      "  warn(msg)\n",
      "/ikerlariak/igarcia945/envs/pytorch2/lib/python3.9/site-packages/bitsandbytes/cuda_setup/main.py:149: UserWarning: WARNING: The following directories listed in your path were found to be non-existent: {PosixPath('40465'), PosixPath('//127.0.0.1'), PosixPath('pmix-server.2964042;tcp4')}\n",
      "  warn(msg)\n",
      "/ikerlariak/igarcia945/envs/pytorch2/lib/python3.9/site-packages/bitsandbytes/cuda_setup/main.py:149: UserWarning: WARNING: The following directories listed in your path were found to be non-existent: {PosixPath('1')}\n",
      "  warn(msg)\n",
      "/ikerlariak/igarcia945/envs/pytorch2/lib/python3.9/site-packages/bitsandbytes/cuda_setup/main.py:149: UserWarning: WARNING: The following directories listed in your path were found to be non-existent: {PosixPath('ac=\\\\140\\\\140aaffggjjkkllmmnnooppqqrrssttuuvvwwxxyyzz{{||}}~~..--++,,hhII00'), PosixPath('cd=\\\\E[J'), PosixPath('SC|screen|VT 100/ANSI X3.64 virtual terminal'), PosixPath('k6=\\\\E[17~'), PosixPath('kr=\\\\EOC'), PosixPath('F4=\\\\E[1;2Q'), PosixPath('DL=\\\\E[%dM'), PosixPath('mr=\\\\E[7m'), PosixPath('LE=\\\\E[%dD'), PosixPath('FE=\\\\E[24;2~'), PosixPath('vi=\\\\E[?25l'), PosixPath('k4=\\\\EOS'), PosixPath('ce=\\\\E[K'), PosixPath('AB=\\\\E[4%dm'), PosixPath('nw=\\\\EE'), PosixPath('sr=\\\\EM'), PosixPath('kB=\\\\E[Z'), PosixPath('ku=\\\\EOA'), PosixPath('mb=\\\\E[5m'), PosixPath('ct=\\\\E[3g'), PosixPath('F1=\\\\E[23~'), PosixPath('dl=\\\\E[M'), PosixPath('k5=\\\\E[15~'), PosixPath('ae=\\\\E(B'), PosixPath('as=\\\\E(0'), PosixPath('LP'), PosixPath('mi'), PosixPath('%i=\\\\E[1;2C'), PosixPath('pa#64'), PosixPath('kR=\\\\E[1;2A'), PosixPath('kN=\\\\E[6~'), PosixPath('F5=\\\\E[1;2R'), PosixPath('F3=\\\\E[1;2P'), PosixPath('k3=\\\\EOR'), PosixPath('kd=\\\\EOB'), PosixPath('al=\\\\E[L'), PosixPath('is=\\\\E)0'), PosixPath('K2=\\\\EOE'), PosixPath('@1=\\\\E[1~'), PosixPath('DO=\\\\E[%dB'), PosixPath('@7=\\\\E[4~'), PosixPath('kb=\\x7f'), PosixPath('up=\\\\EM'), PosixPath('pf=\\\\E[4i'), PosixPath('*7=\\\\E[1;2F'), PosixPath('do=^J'), PosixPath('IC=\\\\E[%d@'), PosixPath('cl=\\\\E[H\\\\E[J'), PosixPath('F9=\\\\E[18;2~'), PosixPath('sc=\\\\E7'), PosixPath('cs=\\\\E[%i%d;%dr'), PosixPath('ei=\\\\E[4l'), PosixPath('bl=^G'), PosixPath('im=\\\\E[4h'), PosixPath('AX'), PosixPath('k2=\\\\EOQ'), PosixPath('md=\\\\E[1m'), PosixPath('se=\\\\E[23m'), PosixPath('kI=\\\\E[2~'), PosixPath('FB=\\\\E[20;2~'), PosixPath('kF=\\\\E[1;2B'), PosixPath('FC=\\\\E[21;2~'), PosixPath('ue=\\\\E[24m'), PosixPath('rs=\\\\Ec'), PosixPath('k1=\\\\EOP'), PosixPath('\\\\\\n\\t'), PosixPath('AL=\\\\E[%dL'), PosixPath('co#80'), PosixPath('xv'), PosixPath('li#24'), PosixPath('ks=\\\\E[?1h\\\\E='), PosixPath('nd=\\\\E[C'), PosixPath('AF=\\\\E[3%dm'), PosixPath('F8=\\\\E[17;2~'), PosixPath('ke=\\\\E[?1l\\\\E>'), PosixPath('kH=\\\\E[4~'), PosixPath('st=\\\\EH'), PosixPath('bt=\\\\E[Z'), PosixPath('ms'), PosixPath('Co#8'), PosixPath('UP=\\\\E[%dA'), PosixPath('vs=\\\\E[34l'), PosixPath('k8=\\\\E[19~'), PosixPath('kP=\\\\E[5~'), PosixPath('vb=\\\\Eg'), PosixPath('cr=^M'), PosixPath('bs'), PosixPath('F6=\\\\E[1;2S'), PosixPath('*4=\\\\E[3;2~'), PosixPath('k;=\\\\E[21~'), PosixPath('xn'), PosixPath('it#8'), PosixPath('#4=\\\\E[1;2D'), PosixPath('le=^H'), PosixPath('k7=\\\\E[18~'), PosixPath('rc=\\\\E8'), PosixPath('op=\\\\E[39;49m'), PosixPath('dc=\\\\E[P'), PosixPath('FA=\\\\E[19;2~'), PosixPath('ti=\\\\E[?1049h'), PosixPath('ta=^I'), PosixPath('ve=\\\\E[34h\\\\E[?25h'), PosixPath('DC=\\\\E[%dP'), PosixPath('us=\\\\E[4m'), PosixPath('cm=\\\\E[%i%d;%dH'), PosixPath('km'), PosixPath('G0'), PosixPath('#2=\\\\E[1;2H'), PosixPath('Km=\\\\E[M'), PosixPath('kh=\\\\E[1~'), PosixPath('pt'), PosixPath('F7=\\\\E[15;2~'), PosixPath('kD=\\\\E[3~'), PosixPath('te=\\\\E[?1049l'), PosixPath('mh=\\\\E[2m'), PosixPath('me=\\\\E[m'), PosixPath('FD=\\\\E[23;2~'), PosixPath('kl=\\\\EOD'), PosixPath('RI=\\\\E[%dC'), PosixPath('F2=\\\\E[24~'), PosixPath('po=\\\\E[5i'), PosixPath('am'), PosixPath('ho=\\\\E[H'), PosixPath('k9=\\\\E[20~'), PosixPath('k0=\\\\E[10~'), PosixPath('so=\\\\E[3m')}\n",
      "  warn(msg)\n",
      "/ikerlariak/igarcia945/envs/pytorch2/lib/python3.9/site-packages/bitsandbytes/cuda_setup/main.py:149: UserWarning: WARNING: The following directories listed in your path were found to be non-existent: {PosixPath('module'), PosixPath('//matplotlib_inline.backend_inline')}\n",
      "  warn(msg)\n",
      "/ikerlariak/igarcia945/envs/pytorch2/lib/python3.9/site-packages/bitsandbytes/cuda_setup/main.py:149: UserWarning: Found duplicate ['libcudart.so', 'libcudart.so.11.0', 'libcudart.so.12.0'] files: {PosixPath('/usr/local/cuda/lib64/libcudart.so.11.0'), PosixPath('/usr/local/cuda/lib64/libcudart.so')}.. We'll flip a coin and try one of these, in order to fail forward.\n",
      "Either way, this might cause trouble in the future:\n",
      "If you get `CUDA error: invalid device function` errors, the above might be the cause and the solution is to make sure only one ['libcudart.so', 'libcudart.so.11.0', 'libcudart.so.12.0'] in the paths that we search based on your env.\n",
      "  warn(msg)\n"
     ]
    },
    {
     "name": "stdout",
     "output_type": "stream",
     "text": [
      "CUDA_SETUP: WARNING! libcudart.so not found in any environmental path. Searching in backup paths...\n",
      "CUDA SETUP: CUDA runtime path found: /usr/local/cuda/lib64/libcudart.so.11.0\n",
      "CUDA SETUP: Highest compute capability among GPUs detected: 8.0\n",
      "CUDA SETUP: Detected CUDA version 113\n",
      "CUDA SETUP: Loading binary /ikerlariak/igarcia945/envs/pytorch2/lib/python3.9/site-packages/bitsandbytes/libbitsandbytes_cuda113.so...\n"
     ]
    },
    {
     "data": {
      "application/vnd.jupyter.widget-view+json": {
       "model_id": "427333a670914f3ca2c1e134256e8104",
       "version_major": 2,
       "version_minor": 0
      },
      "text/plain": [
       "Loading checkpoint shards:   0%|          | 0/2 [00:00<?, ?it/s]"
      ]
     },
     "metadata": {},
     "output_type": "display_data"
    },
    {
     "name": "stderr",
     "output_type": "stream",
     "text": [
      "INFO:root:Model dtype: torch.float16\n",
      "INFO:root:Total model memory footprint: 3796.381696 MB\n",
      "WARNING:root:Model does not have a pad token, we will use the unk token as pad token.\n",
      "INFO:root:Loading pretrained LORA weights from /ikerlariak/osainz006/models/collie/CoLLIE-7b_lora4_baseline\n"
     ]
    }
   ],
   "source": [
    "model_baseline, tokenizer_baseline = load_model_for_inference(\n",
    "    weights_path=\"/gaueko1/hizkuntza-ereduak/LLaMA/lm/huggingface/7B/\",\n",
    "    quantization=4,\n",
    "    lora_weights_name_or_path=\"/ikerlariak/osainz006/models/collie/CoLLIE-7b_lora4_baseline\",\n",
    ")"
   ]
  },
  {
   "cell_type": "code",
   "execution_count": 6,
   "id": "e2145644",
   "metadata": {},
   "outputs": [
    {
     "name": "stderr",
     "output_type": "stream",
     "text": [
      "INFO:root:Loading model from /gaueko1/hizkuntza-ereduak/LLaMA/lm/huggingface/7B/\n",
      "INFO:root:We will load the model using the following device map: None\n",
      "INFO:root:Bits and Bytes config: {\n",
      "    \"load_in_8bit\": false,\n",
      "    \"load_in_4bit\": true,\n",
      "    \"llm_int8_threshold\": 6.0,\n",
      "    \"llm_int8_skip_modules\": null,\n",
      "    \"llm_int8_enable_fp32_cpu_offload\": false,\n",
      "    \"llm_int8_has_fp16_weight\": false,\n",
      "    \"bnb_4bit_quant_type\": \"nf4\",\n",
      "    \"bnb_4bit_use_double_quant\": true,\n",
      "    \"bnb_4bit_compute_dtype\": \"float16\"\n",
      "}\n",
      "WARNING:root:Model /gaueko1/hizkuntza-ereduak/LLaMA/lm/huggingface/7B/ is an encoder-only model. We will load it as a CausalLM model.\n"
     ]
    },
    {
     "data": {
      "application/vnd.jupyter.widget-view+json": {
       "model_id": "ceb5ca2f027a4ff39a3c8e388de48abd",
       "version_major": 2,
       "version_minor": 0
      },
      "text/plain": [
       "Loading checkpoint shards:   0%|          | 0/2 [00:00<?, ?it/s]"
      ]
     },
     "metadata": {},
     "output_type": "display_data"
    },
    {
     "name": "stderr",
     "output_type": "stream",
     "text": [
      "INFO:root:Model dtype: torch.float16\n",
      "INFO:root:Total model memory footprint: 3796.381696 MB\n",
      "WARNING:root:Model does not have a pad token, we will use the unk token as pad token.\n",
      "INFO:root:Loading pretrained LORA weights from /ikerlariak/osainz006/models/collie/CoLLIE-7b_lora4\n"
     ]
    }
   ],
   "source": [
    "model, tokenizer = load_model_for_inference(\n",
    "    weights_path=\"/gaueko1/hizkuntza-ereduak/LLaMA/lm/huggingface/7B/\",\n",
    "    quantization=4,\n",
    "    lora_weights_name_or_path=\"/ikerlariak/osainz006/models/collie/CoLLIE-7b_lora4\",\n",
    ")"
   ]
  },
  {
   "cell_type": "code",
   "execution_count": 16,
   "id": "59ef006a",
   "metadata": {},
   "outputs": [
    {
     "name": "stdout",
     "output_type": "stream",
     "text": [
      "# The following lines describe the task definition\n",
      "@dataclass\n",
      "class Person(Entity):\n",
      "    \"\"\"Persons: first, middle and last names of people, animals and fictional\n",
      "            characters\n",
      "    aliases\"\"\"\n",
      "\n",
      "    span: str\n",
      "\n",
      "\n",
      "@dataclass\n",
      "class Organization(Entity):\n",
      "    \"\"\"Organizations: companies (press agencies, studios, banks, stock\n",
      "               markets, manufacturers, cooperatives)\n",
      "    subdivisions of companies (newsrooms)\n",
      "    brands\n",
      "    political movements (political parties, terrorist\n",
      "              organisations)\n",
      "    government bodies (ministries, councils, courts, political unions\n",
      "               of countries (e.g. the {\\\\it U.N.}))\n",
      "    publications (magazines, newspapers, journals)\n",
      "    musical companies (bands, choirs, opera companies, orchestras\n",
      "    public organisations (schools, universities, charities\n",
      "    other collections of people (sports clubs, sports\n",
      "              teams, associations, theaters companies,\n",
      "              religious orders, youth organisations\n",
      "    \"\"\"\n",
      "\n",
      "    span: str\n",
      "\n",
      "\n",
      "@dataclass\n",
      "class Location(Entity):\n",
      "    \"\"\"Locations: roads (streets, motorways)\n",
      "    trajectories\n",
      "    regions (villages, towns, cities, provinces, countries, continents,\n",
      "             dioceses, parishes)\n",
      "    structures (bridges, ports, dams)\n",
      "    natural locations (mountains, mountain ranges, woods,\n",
      "                       rivers, wells, fields, valleys, gardens,\n",
      "                       nature reserves, allotments, beaches,\n",
      "                       national parks)\n",
      "    public places (squares, opera houses, museums, schools,\n",
      "                   markets, airports, stations, swimming pools,\n",
      "                   hospitals, sports facilities, youth centers,\n",
      "                   parks, town halls, theaters, cinemas, galleries,\n",
      "                   camping grounds, NASA launch pads, club\n",
      "                   houses, universities, libraries, churches,\n",
      "                   medical centers, parking lots, playgrounds,\n",
      "                   cemeteries)\n",
      "    commercial places (chemists, pubs, restaurants, depots,\n",
      "                       hostels, hotels, industrial parks,\n",
      "                       nightclubs, music venues)\n",
      "    assorted buildings (houses, monasteries, creches, mills,\n",
      "                        army barracks, castles, retirement\n",
      "                        homes, towers, halls, rooms, vicarages,\n",
      "                        courtyards)\n",
      "    abstract ``places'' (e.g. {\\\\it the free world})\n",
      "    \"\"\"\n",
      "\n",
      "    span: str\n",
      "\n",
      "\n",
      "# This is the text to analyze\n",
      "text = \"In any event , this question is not presently included among the requests for topical and urgent debate on Thursday .\"\n",
      "\n",
      "# The annotation instances that take place in the text above are listed here\n",
      "result = [\n"
     ]
    }
   ],
   "source": [
    "prompt = (\n",
    "    '# The following lines describe the task definition\\n@dataclass\\nclass Person(Entity):\\n    \"\"\"Persons: first,'\n",
    "    ' middle and last names of people, animals and fictional\\n            characters\\n    aliases\"\"\"\\n\\n    span:'\n",
    "    ' str\\n\\n\\n@dataclass\\nclass Organization(Entity):\\n    \"\"\"Organizations: companies (press agencies, studios,'\n",
    "    \" banks, stock\\n               markets, manufacturers, cooperatives)\\n    subdivisions of companies (newsrooms)\\n \"\n",
    "    \"   brands\\n    political movements (political parties, terrorist\\n              organisations)\\n    government\"\n",
    "    \" bodies (ministries, councils, courts, political unions\\n               of countries (e.g. the {\\\\\\\\it U.N.}))\\n \"\n",
    "    \"   publications (magazines, newspapers, journals)\\n    musical companies (bands, choirs, opera companies,\"\n",
    "    \" orchestras\\n    public organisations (schools, universities, charities\\n    other collections of people (sports\"\n",
    "    \" clubs, sports\\n              teams, associations, theaters companies,\\n              religious orders, youth\"\n",
    "    ' organisations\\n    \"\"\"\\n\\n    span: str\\n\\n\\n@dataclass\\nclass Location(Entity):\\n    \"\"\"Locations: roads'\n",
    "    \" (streets, motorways)\\n    trajectories\\n    regions (villages, towns, cities, provinces, countries,\"\n",
    "    \" continents,\\n             dioceses, parishes)\\n    structures (bridges, ports, dams)\\n    natural locations\"\n",
    "    \" (mountains, mountain ranges, woods,\\n                       rivers, wells, fields, valleys, gardens,\\n          \"\n",
    "    \"             nature reserves, allotments, beaches,\\n                       national parks)\\n    public places\"\n",
    "    \" (squares, opera houses, museums, schools,\\n                   markets, airports, stations, swimming pools,\\n    \"\n",
    "    \"               hospitals, sports facilities, youth centers,\\n                   parks, town halls, theaters,\"\n",
    "    \" cinemas, galleries,\\n                   camping grounds, NASA launch pads, club\\n                   houses,\"\n",
    "    \" universities, libraries, churches,\\n                   medical centers, parking lots, playgrounds,\\n            \"\n",
    "    \"       cemeteries)\\n    commercial places (chemists, pubs, restaurants, depots,\\n                       hostels,\"\n",
    "    \" hotels, industrial parks,\\n                       nightclubs, music venues)\\n    assorted buildings (houses,\"\n",
    "    \" monasteries, creches, mills,\\n                        army barracks, castles, retirement\\n                      \"\n",
    "    \"  homes, towers, halls, rooms, vicarages,\\n                        courtyards)\\n    abstract ``places'' (e.g.\"\n",
    "    ' {\\\\\\\\it the free world})\\n    \"\"\"\\n\\n    span: str\\n\\n\\n# This is the text to analyze\\ntext = \"In any event ,'\n",
    "    ' this question is not presently included among the requests for topical and urgent debate on Thursday .\"\\n\\n# The'\n",
    "    \" annotation instances that take place in the text above are listed here\\nresult = [\"\n",
    ")\n",
    "print(prompt)"
   ]
  },
  {
   "cell_type": "code",
   "execution_count": 85,
   "id": "c5a0bb6a",
   "metadata": {},
   "outputs": [
    {
     "name": "stdout",
     "output_type": "stream",
     "text": [
      "# The following lines describe the task definition\n",
      "@dataclass\n",
      "class TwoWheelVehicle(Entity):\n",
      "    \"\"\"Vehicles that have two wheels, for example, motorbikes and bycicles\"\"\"\n",
      "\n",
      "    span: str\n",
      "\n",
      "\n",
      "@dataclass\n",
      "class FourWheelVehicle(Entity):\n",
      "\"\"\"Vehicles that have four wheels, for example, cars and trucks\"\"\"\n",
      "\n",
      "    span:str\n",
      "\n",
      "\n",
      "# This is the text to analyze\n",
      "text = \"The car overtake the motorbike very fast\" \n",
      "\n",
      "# The annotation instances that take place in the text above are listed here\n",
      "result =\n"
     ]
    }
   ],
   "source": [
    "prompt_guideline = (\n",
    "    '# The following lines describe the task definition\\n@dataclass\\nclass TwoWheelVehicle(Entity):\\n    '\n",
    "    '\"\"\"Vehicles that have two wheels, for example, motorbikes and bycicles\"\"\"\\n\\n    span:'\n",
    "    ' str\\n\\n\\n@dataclass\\nclass FourWheelVehicle(Entity):\\n'\n",
    "    '\"\"\"Vehicles that have four wheels, for example, cars and trucks\"\"\"\\n\\n    span:str\\n\\n\\n'\n",
    "    '# This is the text to analyze\\ntext = '\n",
    "    '\"The car overtake the motorbike very fast\"'\n",
    "    ' \\n\\n# The'\n",
    "    \" annotation instances that take place in the text above are listed here\\nresult =\"\n",
    ")\n",
    "print(prompt_guideline)"
   ]
  },
  {
   "cell_type": "code",
   "execution_count": 103,
   "id": "651c1c10",
   "metadata": {},
   "outputs": [
    {
     "name": "stdout",
     "output_type": "stream",
     "text": [
      "# The following lines describe the task definition\n",
      "@dataclass\n",
      "class Vehicle2(Entity):\n",
      "    \"\"\"Vehicles that have two wheels, for example, bicycles\"\"\"\n",
      "\n",
      "    span: str\n",
      "\n",
      "\n",
      "@dataclass\n",
      "class Vehicle4(Entity):\n",
      "\"\"\"Vehicles that have four wheels, for example, automobile\"\"\"\n",
      "\n",
      "    span:str\n",
      "\n",
      "\n",
      "# This is the text to analyze\n",
      "text = \"The car overtake the motorbike very fast\" \n",
      "\n",
      "# The annotation instances that take place in the text above are listed here\n",
      "result =\n"
     ]
    }
   ],
   "source": [
    "prompt_guideline = (\n",
    "    '# The following lines describe the task definition\\n@dataclass\\nclass Vehicle2(Entity):\\n    '\n",
    "    '\"\"\"Vehicles that have two wheels, for example, bicycles\"\"\"\\n\\n    span:'\n",
    "    ' str\\n\\n\\n@dataclass\\nclass Vehicle4(Entity):\\n'\n",
    "    '\"\"\"Vehicles that have four wheels, for example, automobile\"\"\"\\n\\n    span:str\\n\\n\\n'\n",
    "    '# This is the text to analyze\\ntext = '\n",
    "    '\"The car overtake the motorbike very fast\"'\n",
    "    ' \\n\\n# The'\n",
    "    \" annotation instances that take place in the text above are listed here\\nresult =\"\n",
    ")\n",
    "print(prompt_guideline)"
   ]
  },
  {
   "cell_type": "code",
   "execution_count": 104,
   "id": "398a661a",
   "metadata": {},
   "outputs": [
    {
     "name": "stdout",
     "output_type": "stream",
     "text": [
      "# The following lines describe the task definition\n",
      "@dataclass\n",
      "class TwoWheelVehicle(Entity):\n",
      "    \"\"\"\"\"\"\n",
      "\n",
      "    span: str\n",
      "\n",
      "\n",
      "@dataclass\n",
      "class FourWheelVehicle(Entity):\n",
      "\"\"\"\"\"\"\n",
      "\n",
      "    span:str\n",
      "\n",
      "\n",
      "# This is the text to analyze\n",
      "text = \"The car overtake the motorbike very fast\" \n",
      "\n",
      "# The annotation instances that take place in the text above are listed here\n",
      "result =\n"
     ]
    }
   ],
   "source": [
    "prompt_clear = (\n",
    "    '# The following lines describe the task definition\\n@dataclass\\nclass TwoWheelVehicle(Entity):\\n    '\n",
    "    '\"\"\"\"\"\"\\n\\n    span:'\n",
    "    ' str\\n\\n\\n@dataclass\\nclass FourWheelVehicle(Entity):\\n'\n",
    "    '\"\"\"\"\"\"\\n\\n    span:str\\n\\n\\n'\n",
    "    '# This is the text to analyze\\ntext = '\n",
    "    '\"The car overtake the motorbike very fast\"'\n",
    "    ' \\n\\n# The'\n",
    "    \" annotation instances that take place in the text above are listed here\\nresult =\"\n",
    ")\n",
    "print(prompt_clear)"
   ]
  },
  {
   "cell_type": "code",
   "execution_count": 105,
   "id": "c19e23ad",
   "metadata": {},
   "outputs": [
    {
     "data": {
      "text/plain": [
       "{'input_ids': tensor([[    1,   396,   450,  1494,  3454,  8453,   278,  3414,  5023,    13,\n",
       "         29992,  1272,  1990,    13,  1990,  8980, 29882,  2512, 29906, 29898,\n",
       "          6691,  1125,    13,  1678,  9995, 29963, 14797,  4027,   393,   505,\n",
       "          1023, 21266,  1379, 29892,   363,  1342, 29892,   289,  4245,  7799,\n",
       "         15945, 29908,    13,    13,  1678, 10638, 29901,   851,    13,    13,\n",
       "            13, 29992,  1272,  1990,    13,  1990,  8980, 29882,  2512, 29946,\n",
       "         29898,  6691,  1125,    13, 15945, 29908, 29963, 14797,  4027,   393,\n",
       "           505,  3023, 21266,  1379, 29892,   363,  1342, 29892,  3345,  5249,\n",
       "         15945, 29908,    13,    13,  1678, 10638, 29901,   710,    13,    13,\n",
       "            13, 29937,   910,   338,   278,  1426,   304, 27599,    13,   726,\n",
       "           353,   376,  1576,  1559,   975, 19730,   278, 10992,  5365,   446,\n",
       "          1407,  5172, 29908, 29871,    13,    13, 29937,   450, 17195,  8871,\n",
       "           393,  2125,  2058,   297,   278,  1426,  2038,   526,  9904,  1244,\n",
       "            13,  2914,   353]]), 'attention_mask': tensor([[1, 1, 1, 1, 1, 1, 1, 1, 1, 1, 1, 1, 1, 1, 1, 1, 1, 1, 1, 1, 1, 1, 1, 1,\n",
       "         1, 1, 1, 1, 1, 1, 1, 1, 1, 1, 1, 1, 1, 1, 1, 1, 1, 1, 1, 1, 1, 1, 1, 1,\n",
       "         1, 1, 1, 1, 1, 1, 1, 1, 1, 1, 1, 1, 1, 1, 1, 1, 1, 1, 1, 1, 1, 1, 1, 1,\n",
       "         1, 1, 1, 1, 1, 1, 1, 1, 1, 1, 1, 1, 1, 1, 1, 1, 1, 1, 1, 1, 1, 1, 1, 1,\n",
       "         1, 1, 1, 1, 1, 1, 1, 1, 1, 1, 1, 1, 1, 1, 1, 1, 1, 1, 1, 1, 1, 1, 1, 1,\n",
       "         1, 1, 1, 1, 1, 1, 1, 1, 1, 1, 1, 1, 1, 1]])}"
      ]
     },
     "execution_count": 105,
     "metadata": {},
     "output_type": "execute_result"
    }
   ],
   "source": [
    "model_input = tokenizer(prompt_guideline, add_special_tokens=True, return_tensors=\"pt\")\n",
    "model_input[\"input_ids\"]=model_input[\"input_ids\"][:,:-1]\n",
    "model_input"
   ]
  },
  {
   "cell_type": "code",
   "execution_count": 106,
   "id": "407d4e46",
   "metadata": {},
   "outputs": [
    {
     "name": "stdout",
     "output_type": "stream",
     "text": [
      "<s> # The following lines describe the task definition\n",
      "@dataclass\n",
      "class Vehicle2(Entity):\n",
      "    \"\"\"Vehicles that have two wheels, for example, bicycles\"\"\"\n",
      "\n",
      "    span: str\n",
      "\n",
      "\n",
      "@dataclass\n",
      "class Vehicle4(Entity):\n",
      "\"\"\"Vehicles that have four wheels, for example, automobile\"\"\"\n",
      "\n",
      "    span:str\n",
      "\n",
      "\n",
      "# This is the text to analyze\n",
      "text = \"The car overtake the motorbike very fast\" \n",
      "\n",
      "# The annotation instances that take place in the text above are listed here\n",
      "result = [\n",
      "    Vehicle4(span=\"car\"),\n",
      "    Vehicle2(span=\"motorbike\"),\n",
      "]\n",
      "</s>\n"
     ]
    }
   ],
   "source": [
    "#CoLLIE\n",
    "model_ouput = model.generate(input_ids=model_input.input_ids.to(model.device), max_new_tokens=128,do_sample=False,min_new_tokens=0,num_beams=1)\n",
    "print(tokenizer.batch_decode(model_ouput)[0])"
   ]
  },
  {
   "cell_type": "code",
   "execution_count": 107,
   "id": "be2b590b",
   "metadata": {},
   "outputs": [
    {
     "name": "stdout",
     "output_type": "stream",
     "text": [
      "<s> # The following lines describe the task definition\n",
      "@dataclass\n",
      "class Vehicle2(Entity):\n",
      "    \"\"\"Vehicles that have two wheels, for example, bicycles\"\"\"\n",
      "\n",
      "    span: str\n",
      "\n",
      "\n",
      "@dataclass\n",
      "class Vehicle4(Entity):\n",
      "\"\"\"Vehicles that have four wheels, for example, automobile\"\"\"\n",
      "\n",
      "    span:str\n",
      "\n",
      "\n",
      "# This is the text to analyze\n",
      "text = \"The car overtake the motorbike very fast\" \n",
      "\n",
      "# The annotation instances that take place in the text above are listed here\n",
      "result = [\n",
      "    Vehicle2(span=\"car\"),\n",
      "    Vehicle2(span=\"motorbike\"),\n",
      "]\n",
      "</s>\n"
     ]
    }
   ],
   "source": [
    "#model_input = tokenizer(prompt_clear, add_special_tokens=True, return_tensors=\"pt\")\n",
    "#model_input[\"input_ids\"]=model_input[\"input_ids\"][:,:-1]\n",
    "#model_input\n",
    "\n",
    "model_ouput = model_baseline.generate(input_ids=model_input.input_ids.to(model_baseline.device), max_new_tokens=128,do_sample=False,min_new_tokens=0,num_beams=1)\n",
    "print(tokenizer.batch_decode(model_ouput)[0])"
   ]
  },
  {
   "cell_type": "code",
   "execution_count": null,
   "id": "82ea1aae",
   "metadata": {},
   "outputs": [],
   "source": []
  },
  {
   "cell_type": "code",
   "execution_count": null,
   "id": "4bce034e",
   "metadata": {},
   "outputs": [],
   "source": []
  },
  {
   "cell_type": "code",
   "execution_count": null,
   "id": "7b9d6d1b",
   "metadata": {},
   "outputs": [],
   "source": []
  }
 ],
 "metadata": {
  "kernelspec": {
   "display_name": "Python 3 (ipykernel)",
   "language": "python",
   "name": "python3"
  },
  "language_info": {
   "codemirror_mode": {
    "name": "ipython",
    "version": 3
   },
   "file_extension": ".py",
   "mimetype": "text/x-python",
   "name": "python",
   "nbconvert_exporter": "python",
   "pygments_lexer": "ipython3",
   "version": "3.9.7"
  }
 },
 "nbformat": 4,
 "nbformat_minor": 5
}
