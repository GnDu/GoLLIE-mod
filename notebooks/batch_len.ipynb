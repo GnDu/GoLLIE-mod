{
 "cells": [
  {
   "cell_type": "code",
   "execution_count": 1,
   "outputs": [
    {
     "name": "stdout",
     "output_type": "stream",
     "text": [
      "\n",
      "===================================BUG REPORT===================================\n",
      "Welcome to bitsandbytes. For bug reports, please run\n",
      "\n",
      "python -m bitsandbytes\n",
      "\n",
      " and submit this information together with your error trace to: https://github.com/TimDettmers/bitsandbytes/issues\n",
      "================================================================================\n",
      "bin /home/ikergarcia/miniconda3/envs/transformers/lib/python3.10/site-packages/bitsandbytes/libbitsandbytes_cpu.so\n",
      "/home/ikergarcia/miniconda3/envs/transformers/lib/python3.10/site-packages/bitsandbytes/libbitsandbytes_cpu.so: undefined symbol: cadam32bit_grad_fp32\n",
      "CUDA SETUP: Loading binary /home/ikergarcia/miniconda3/envs/transformers/lib/python3.10/site-packages/bitsandbytes/libbitsandbytes_cpu.so...\n"
     ]
    },
    {
     "name": "stderr",
     "output_type": "stream",
     "text": [
      "/home/ikergarcia/miniconda3/envs/transformers/lib/python3.10/site-packages/bitsandbytes/cextension.py:34: UserWarning: The installed version of bitsandbytes was compiled without GPU support. 8-bit optimizers, 8-bit multiplication, and GPU quantization are unavailable.\n",
      "  warn(\"The installed version of bitsandbytes was compiled without GPU support. \"\n"
     ]
    }
   ],
   "source": [
    "import sys\n",
    "\n",
    "# cd to ../src\n",
    "sys.path.append(\"../src\")\n",
    "from src.trainer import ConcatDataset\n",
    "from src.dataset.dataset import CollieDataset, DataCollatorForCoLLIE\n",
    "from torch.utils.data import DataLoader\n",
    "import os\n",
    "from transformers import AutoTokenizer\n",
    "from tqdm.notebook import tqdm\n",
    "import logging\n",
    "\n",
    "logging.basicConfig(level=logging.INFO)"
   ],
   "metadata": {
    "collapsed": false,
    "ExecuteTime": {
     "end_time": "2023-07-03T12:57:32.108904019Z",
     "start_time": "2023-07-03T12:57:28.794706711Z"
    }
   }
  },
  {
   "cell_type": "code",
   "execution_count": 2,
   "outputs": [],
   "source": [
    "# Set for local execution, leave empty for running it on the server\n",
    "local_path = \"/run/user/1000/gvfs/sftp:host=tximista.ixa.eus,user=igarcia945/\"\n",
    "# local_path = \"\""
   ],
   "metadata": {
    "collapsed": false,
    "ExecuteTime": {
     "end_time": "2023-07-03T12:57:39.043424977Z",
     "start_time": "2023-07-03T12:57:39.037269780Z"
    }
   }
  },
  {
   "cell_type": "code",
   "execution_count": 3,
   "outputs": [],
   "source": [
    "dataset_dir = f\"{local_path}/ikerlariak/osainz006/CoLLIE/data/processed\"\n",
    "tasks = [\n",
    "    \"ace05.ner\",\n",
    "    \"ace05.re\",\n",
    "    \"ace05.rc\",\n",
    "    \"ace05.ee\",\n",
    "    \"ace05.eae\",\n",
    "    \"conll03.ner\",\n",
    "    \"rams.eae\",\n",
    "    # \"tacred.re\",\n",
    "    # \"tacred.sf\",\n",
    "    # \"wikievents.eae\",\n",
    "    # \"wikievents.ee\",\n",
    "    # \"wikievents.ner\",\n",
    "]"
   ],
   "metadata": {
    "collapsed": false,
    "ExecuteTime": {
     "end_time": "2023-07-03T12:57:41.425769488Z",
     "start_time": "2023-07-03T12:57:41.420677985Z"
    }
   }
  },
  {
   "cell_type": "code",
   "execution_count": 4,
   "outputs": [
    {
     "name": "stdout",
     "output_type": "stream",
     "text": [
      "Model does not have a pad token, we will use the unk token as pad token.\n"
     ]
    }
   ],
   "source": [
    "tokenizer = AutoTokenizer.from_pretrained(\n",
    "    f\"{local_path}/gaueko1/hizkuntza-ereduak/LLaMA/lm/huggingface/7B/\",\n",
    "    add_eos_token=True,\n",
    ")\n",
    "tokenizer.padding_side = \"left\"\n",
    "if tokenizer.pad_token_id is None:\n",
    "    if \"<|padding|>\" in tokenizer.get_vocab():\n",
    "        # StabilityLM specific fix\n",
    "        tokenizer.add_special_tokens({\"pad_token\": \"<|padding|>\"})\n",
    "    elif tokenizer.unk_token is not None:\n",
    "        print(\"Model does not have a pad token, we will use the unk token as pad token.\")\n",
    "        tokenizer.pad_token_id = tokenizer.unk_token_id\n",
    "    else:\n",
    "        print(\"Model does not have a pad token. We will use the eos token as pad token.\")\n",
    "        tokenizer.pad_token_id = tokenizer.eos_token_id"
   ],
   "metadata": {
    "collapsed": false,
    "ExecuteTime": {
     "end_time": "2023-07-03T12:58:00.466516905Z",
     "start_time": "2023-07-03T12:57:57.785356987Z"
    }
   }
  },
  {
   "cell_type": "code",
   "execution_count": 5,
   "outputs": [
    {
     "data": {
      "text/plain": "  0%|          | 0/7 [00:00<?, ?it/s]",
      "application/vnd.jupyter.widget-view+json": {
       "version_major": 2,
       "version_minor": 0,
       "model_id": "69ec0b2d23884765bf768a5fc7fdd664"
      }
     },
     "metadata": {},
     "output_type": "display_data"
    },
    {
     "name": "stderr",
     "output_type": "stream",
     "text": [
      "INFO:root:Found 2 pre-computed epoch datasets.\n"
     ]
    },
    {
     "data": {
      "text/plain": "\u001B[31m╭─\u001B[0m\u001B[31m──────────────────────────────\u001B[0m\u001B[31m \u001B[0m\u001B[1;31mTraceback \u001B[0m\u001B[1;2;31m(most recent call last)\u001B[0m\u001B[31m \u001B[0m\u001B[31m───────────────────────────────\u001B[0m\u001B[31m─╮\u001B[0m\n\u001B[31m│\u001B[0m in \u001B[92m<module>\u001B[0m:\u001B[94m4\u001B[0m                                                                                    \u001B[31m│\u001B[0m\n\u001B[31m│\u001B[0m                                                                                                  \u001B[31m│\u001B[0m\n\u001B[31m│\u001B[0m   \u001B[2m 1 \u001B[0mtraining_datasets = []                                                                      \u001B[31m│\u001B[0m\n\u001B[31m│\u001B[0m   \u001B[2m 2 \u001B[0m\u001B[94mfor\u001B[0m train_task \u001B[95min\u001B[0m tqdm(tasks):                                                              \u001B[31m│\u001B[0m\n\u001B[31m│\u001B[0m   \u001B[2m 3 \u001B[0m\u001B[2m│   \u001B[0mtrain_path = os.path.join(dataset_dir, \u001B[33mf\u001B[0m\u001B[33m\"\u001B[0m\u001B[33m{\u001B[0mtrain_task\u001B[33m}\u001B[0m\u001B[33m.train.jsonl\u001B[0m\u001B[33m\"\u001B[0m)                     \u001B[31m│\u001B[0m\n\u001B[31m│\u001B[0m \u001B[31m❱ \u001B[0m 4 \u001B[2m│   \u001B[0mtrain_dataset = CollieDataset(                                                          \u001B[31m│\u001B[0m\n\u001B[31m│\u001B[0m   \u001B[2m 5 \u001B[0m\u001B[2m│   │   \u001B[0mtokenizer=tokenizer,                                                                \u001B[31m│\u001B[0m\n\u001B[31m│\u001B[0m   \u001B[2m 6 \u001B[0m\u001B[2m│   │   \u001B[0mdataset_path=train_path,                                                            \u001B[31m│\u001B[0m\n\u001B[31m│\u001B[0m   \u001B[2m 7 \u001B[0m\u001B[2m│   │   \u001B[0mmax_length=\u001B[94m2048\u001B[0m,                                                                    \u001B[31m│\u001B[0m\n\u001B[31m│\u001B[0m                                                                                                  \u001B[31m│\u001B[0m\n\u001B[31m│\u001B[0m \u001B[2;33m/home/ikergarcia/Documents/CoLLIE/src/dataset/\u001B[0m\u001B[1;33mdataset.py\u001B[0m:\u001B[94m337\u001B[0m in \u001B[92m__init__\u001B[0m                         \u001B[31m│\u001B[0m\n\u001B[31m│\u001B[0m                                                                                                  \u001B[31m│\u001B[0m\n\u001B[31m│\u001B[0m   \u001B[2m334 \u001B[0m\u001B[2m│   │   │   │   │   │   \u001B[0mlogging.warning(\u001B[33mf\u001B[0m\u001B[33m\"\u001B[0m\u001B[33mError loading pre-computed epoch \u001B[0m\u001B[33m{\u001B[0mdataset\u001B[33m}\u001B[0m\u001B[33m . S\u001B[0m   \u001B[31m│\u001B[0m\n\u001B[31m│\u001B[0m   \u001B[2m335 \u001B[0m\u001B[2m│   │   │   │   │   │   \u001B[0m\u001B[94mcontinue\u001B[0m                                                           \u001B[31m│\u001B[0m\n\u001B[31m│\u001B[0m   \u001B[2m336 \u001B[0m\u001B[2m│   │   │   │   │   \u001B[0m                                                                       \u001B[31m│\u001B[0m\n\u001B[31m│\u001B[0m \u001B[31m❱ \u001B[0m337 \u001B[2m│   │   │   │   │   \u001B[0m\u001B[96mself\u001B[0m.dataset_dict[\u001B[96mint\u001B[0m(epoch)] = \u001B[96mself\u001B[0m.compute_tokenized_examples(       \u001B[31m│\u001B[0m\n\u001B[31m│\u001B[0m   \u001B[2m338 \u001B[0m\u001B[2m│   │   │   │   │   │   \u001B[0mdataset_path=dataset,                                              \u001B[31m│\u001B[0m\n\u001B[31m│\u001B[0m   \u001B[2m339 \u001B[0m\u001B[2m│   │   │   │   │   │   \u001B[0mnum_workers=num_workers,                                           \u001B[31m│\u001B[0m\n\u001B[31m│\u001B[0m   \u001B[2m340 \u001B[0m\u001B[2m│   │   │   │   │   │   \u001B[0mtokenizer=tokenizer,                                               \u001B[31m│\u001B[0m\n\u001B[31m│\u001B[0m                                                                                                  \u001B[31m│\u001B[0m\n\u001B[31m│\u001B[0m \u001B[2;33m/home/ikergarcia/Documents/CoLLIE/src/dataset/\u001B[0m\u001B[1;33mdataset.py\u001B[0m:\u001B[94m426\u001B[0m in \u001B[92mcompute_tokenized_examples\u001B[0m       \u001B[31m│\u001B[0m\n\u001B[31m│\u001B[0m                                                                                                  \u001B[31m│\u001B[0m\n\u001B[31m│\u001B[0m   \u001B[2m423 \u001B[0m\u001B[2m│   │   │   │   \u001B[0m\u001B[96mself\u001B[0m.prompt_loss_weight,                                                   \u001B[31m│\u001B[0m\n\u001B[31m│\u001B[0m   \u001B[2m424 \u001B[0m\u001B[2m│   │   │   \u001B[0m)                                                                              \u001B[31m│\u001B[0m\n\u001B[31m│\u001B[0m   \u001B[2m425 \u001B[0m\u001B[2m│   │   │   \u001B[0m\u001B[94mwith\u001B[0m Pool(num_workers) \u001B[94mas\u001B[0m p:                                                   \u001B[31m│\u001B[0m\n\u001B[31m│\u001B[0m \u001B[31m❱ \u001B[0m426 \u001B[2m│   │   │   │   \u001B[0mtokenized_examples = p.starmap(                                            \u001B[31m│\u001B[0m\n\u001B[31m│\u001B[0m   \u001B[2m427 \u001B[0m\u001B[2m│   │   │   │   │   \u001B[0mtokenizer_fn,                                                          \u001B[31m│\u001B[0m\n\u001B[31m│\u001B[0m   \u001B[2m428 \u001B[0m\u001B[2m│   │   │   │   │   \u001B[0m\u001B[96mzip\u001B[0m(batch(examples, num_workers), \u001B[96mrange\u001B[0m(num_workers)),                 \u001B[31m│\u001B[0m\n\u001B[31m│\u001B[0m   \u001B[2m429 \u001B[0m\u001B[2m│   │   │   │   \u001B[0m)                                                                          \u001B[31m│\u001B[0m\n\u001B[31m│\u001B[0m                                                                                                  \u001B[31m│\u001B[0m\n\u001B[31m│\u001B[0m \u001B[2;33m/home/ikergarcia/miniconda3/envs/transformers/lib/python3.10/multiprocessing/\u001B[0m\u001B[1;33mpool.py\u001B[0m:\u001B[94m375\u001B[0m in      \u001B[31m│\u001B[0m\n\u001B[31m│\u001B[0m \u001B[92mstarmap\u001B[0m                                                                                          \u001B[31m│\u001B[0m\n\u001B[31m│\u001B[0m                                                                                                  \u001B[31m│\u001B[0m\n\u001B[31m│\u001B[0m   \u001B[2m372 \u001B[0m\u001B[2;33m│   │   \u001B[0m\u001B[33mbe iterables as well and will be unpacked as arguments. Hence\u001B[0m                      \u001B[31m│\u001B[0m\n\u001B[31m│\u001B[0m   \u001B[2m373 \u001B[0m\u001B[2;33m│   │   \u001B[0m\u001B[33m`func` and (a, b) becomes func(a, b).\u001B[0m                                              \u001B[31m│\u001B[0m\n\u001B[31m│\u001B[0m   \u001B[2m374 \u001B[0m\u001B[2;33m│   │   \u001B[0m\u001B[33m'''\u001B[0m                                                                                \u001B[31m│\u001B[0m\n\u001B[31m│\u001B[0m \u001B[31m❱ \u001B[0m375 \u001B[2m│   │   \u001B[0m\u001B[94mreturn\u001B[0m \u001B[96mself\u001B[0m._map_async(func, iterable, starmapstar, chunksize).get()               \u001B[31m│\u001B[0m\n\u001B[31m│\u001B[0m   \u001B[2m376 \u001B[0m\u001B[2m│   \u001B[0m                                                                                       \u001B[31m│\u001B[0m\n\u001B[31m│\u001B[0m   \u001B[2m377 \u001B[0m\u001B[2m│   \u001B[0m\u001B[94mdef\u001B[0m \u001B[92mstarmap_async\u001B[0m(\u001B[96mself\u001B[0m, func, iterable, chunksize=\u001B[94mNone\u001B[0m, callback=\u001B[94mNone\u001B[0m,                 \u001B[31m│\u001B[0m\n\u001B[31m│\u001B[0m   \u001B[2m378 \u001B[0m\u001B[2m│   │   │   \u001B[0merror_callback=\u001B[94mNone\u001B[0m):                                                          \u001B[31m│\u001B[0m\n\u001B[31m│\u001B[0m                                                                                                  \u001B[31m│\u001B[0m\n\u001B[31m│\u001B[0m \u001B[2;33m/home/ikergarcia/miniconda3/envs/transformers/lib/python3.10/multiprocessing/\u001B[0m\u001B[1;33mpool.py\u001B[0m:\u001B[94m768\u001B[0m in \u001B[92mget\u001B[0m  \u001B[31m│\u001B[0m\n\u001B[31m│\u001B[0m                                                                                                  \u001B[31m│\u001B[0m\n\u001B[31m│\u001B[0m   \u001B[2m765 \u001B[0m\u001B[2m│   │   \u001B[0m\u001B[96mself\u001B[0m._event.wait(timeout)                                                          \u001B[31m│\u001B[0m\n\u001B[31m│\u001B[0m   \u001B[2m766 \u001B[0m\u001B[2m│   \u001B[0m                                                                                       \u001B[31m│\u001B[0m\n\u001B[31m│\u001B[0m   \u001B[2m767 \u001B[0m\u001B[2m│   \u001B[0m\u001B[94mdef\u001B[0m \u001B[92mget\u001B[0m(\u001B[96mself\u001B[0m, timeout=\u001B[94mNone\u001B[0m):                                                           \u001B[31m│\u001B[0m\n\u001B[31m│\u001B[0m \u001B[31m❱ \u001B[0m768 \u001B[2m│   │   \u001B[0m\u001B[96mself\u001B[0m.wait(timeout)                                                                 \u001B[31m│\u001B[0m\n\u001B[31m│\u001B[0m   \u001B[2m769 \u001B[0m\u001B[2m│   │   \u001B[0m\u001B[94mif\u001B[0m \u001B[95mnot\u001B[0m \u001B[96mself\u001B[0m.ready():                                                               \u001B[31m│\u001B[0m\n\u001B[31m│\u001B[0m   \u001B[2m770 \u001B[0m\u001B[2m│   │   │   \u001B[0m\u001B[94mraise\u001B[0m \u001B[96mTimeoutError\u001B[0m                                                             \u001B[31m│\u001B[0m\n\u001B[31m│\u001B[0m   \u001B[2m771 \u001B[0m\u001B[2m│   │   \u001B[0m\u001B[94mif\u001B[0m \u001B[96mself\u001B[0m._success:                                                                  \u001B[31m│\u001B[0m\n\u001B[31m│\u001B[0m                                                                                                  \u001B[31m│\u001B[0m\n\u001B[31m│\u001B[0m \u001B[2;33m/home/ikergarcia/miniconda3/envs/transformers/lib/python3.10/multiprocessing/\u001B[0m\u001B[1;33mpool.py\u001B[0m:\u001B[94m765\u001B[0m in \u001B[92mwait\u001B[0m \u001B[31m│\u001B[0m\n\u001B[31m│\u001B[0m                                                                                                  \u001B[31m│\u001B[0m\n\u001B[31m│\u001B[0m   \u001B[2m762 \u001B[0m\u001B[2m│   │   \u001B[0m\u001B[94mreturn\u001B[0m \u001B[96mself\u001B[0m._success                                                               \u001B[31m│\u001B[0m\n\u001B[31m│\u001B[0m   \u001B[2m763 \u001B[0m\u001B[2m│   \u001B[0m                                                                                       \u001B[31m│\u001B[0m\n\u001B[31m│\u001B[0m   \u001B[2m764 \u001B[0m\u001B[2m│   \u001B[0m\u001B[94mdef\u001B[0m \u001B[92mwait\u001B[0m(\u001B[96mself\u001B[0m, timeout=\u001B[94mNone\u001B[0m):                                                          \u001B[31m│\u001B[0m\n\u001B[31m│\u001B[0m \u001B[31m❱ \u001B[0m765 \u001B[2m│   │   \u001B[0m\u001B[96mself\u001B[0m._event.wait(timeout)                                                          \u001B[31m│\u001B[0m\n\u001B[31m│\u001B[0m   \u001B[2m766 \u001B[0m\u001B[2m│   \u001B[0m                                                                                       \u001B[31m│\u001B[0m\n\u001B[31m│\u001B[0m   \u001B[2m767 \u001B[0m\u001B[2m│   \u001B[0m\u001B[94mdef\u001B[0m \u001B[92mget\u001B[0m(\u001B[96mself\u001B[0m, timeout=\u001B[94mNone\u001B[0m):                                                           \u001B[31m│\u001B[0m\n\u001B[31m│\u001B[0m   \u001B[2m768 \u001B[0m\u001B[2m│   │   \u001B[0m\u001B[96mself\u001B[0m.wait(timeout)                                                                 \u001B[31m│\u001B[0m\n\u001B[31m│\u001B[0m                                                                                                  \u001B[31m│\u001B[0m\n\u001B[31m│\u001B[0m \u001B[2;33m/home/ikergarcia/miniconda3/envs/transformers/lib/python3.10/\u001B[0m\u001B[1;33mthreading.py\u001B[0m:\u001B[94m607\u001B[0m in \u001B[92mwait\u001B[0m            \u001B[31m│\u001B[0m\n\u001B[31m│\u001B[0m                                                                                                  \u001B[31m│\u001B[0m\n\u001B[31m│\u001B[0m   \u001B[2m 604 \u001B[0m\u001B[2m│   │   \u001B[0m\u001B[94mwith\u001B[0m \u001B[96mself\u001B[0m._cond:                                                                  \u001B[31m│\u001B[0m\n\u001B[31m│\u001B[0m   \u001B[2m 605 \u001B[0m\u001B[2m│   │   │   \u001B[0msignaled = \u001B[96mself\u001B[0m._flag                                                         \u001B[31m│\u001B[0m\n\u001B[31m│\u001B[0m   \u001B[2m 606 \u001B[0m\u001B[2m│   │   │   \u001B[0m\u001B[94mif\u001B[0m \u001B[95mnot\u001B[0m signaled:                                                              \u001B[31m│\u001B[0m\n\u001B[31m│\u001B[0m \u001B[31m❱ \u001B[0m 607 \u001B[2m│   │   │   │   \u001B[0msignaled = \u001B[96mself\u001B[0m._cond.wait(timeout)                                       \u001B[31m│\u001B[0m\n\u001B[31m│\u001B[0m   \u001B[2m 608 \u001B[0m\u001B[2m│   │   │   \u001B[0m\u001B[94mreturn\u001B[0m signaled                                                               \u001B[31m│\u001B[0m\n\u001B[31m│\u001B[0m   \u001B[2m 609 \u001B[0m                                                                                          \u001B[31m│\u001B[0m\n\u001B[31m│\u001B[0m   \u001B[2m 610 \u001B[0m                                                                                          \u001B[31m│\u001B[0m\n\u001B[31m│\u001B[0m                                                                                                  \u001B[31m│\u001B[0m\n\u001B[31m│\u001B[0m \u001B[2;33m/home/ikergarcia/miniconda3/envs/transformers/lib/python3.10/\u001B[0m\u001B[1;33mthreading.py\u001B[0m:\u001B[94m320\u001B[0m in \u001B[92mwait\u001B[0m            \u001B[31m│\u001B[0m\n\u001B[31m│\u001B[0m                                                                                                  \u001B[31m│\u001B[0m\n\u001B[31m│\u001B[0m   \u001B[2m 317 \u001B[0m\u001B[2m│   │   \u001B[0mgotit = \u001B[94mFalse\u001B[0m                                                                     \u001B[31m│\u001B[0m\n\u001B[31m│\u001B[0m   \u001B[2m 318 \u001B[0m\u001B[2m│   │   \u001B[0m\u001B[94mtry\u001B[0m:    \u001B[2m# restore state no matter what (e.g., KeyboardInterrupt)\u001B[0m                  \u001B[31m│\u001B[0m\n\u001B[31m│\u001B[0m   \u001B[2m 319 \u001B[0m\u001B[2m│   │   │   \u001B[0m\u001B[94mif\u001B[0m timeout \u001B[95mis\u001B[0m \u001B[94mNone\u001B[0m:                                                           \u001B[31m│\u001B[0m\n\u001B[31m│\u001B[0m \u001B[31m❱ \u001B[0m 320 \u001B[2m│   │   │   │   \u001B[0mwaiter.acquire()                                                          \u001B[31m│\u001B[0m\n\u001B[31m│\u001B[0m   \u001B[2m 321 \u001B[0m\u001B[2m│   │   │   │   \u001B[0mgotit = \u001B[94mTrue\u001B[0m                                                              \u001B[31m│\u001B[0m\n\u001B[31m│\u001B[0m   \u001B[2m 322 \u001B[0m\u001B[2m│   │   │   \u001B[0m\u001B[94melse\u001B[0m:                                                                         \u001B[31m│\u001B[0m\n\u001B[31m│\u001B[0m   \u001B[2m 323 \u001B[0m\u001B[2m│   │   │   │   \u001B[0m\u001B[94mif\u001B[0m timeout > \u001B[94m0\u001B[0m:                                                           \u001B[31m│\u001B[0m\n\u001B[31m╰──────────────────────────────────────────────────────────────────────────────────────────────────╯\u001B[0m\n\u001B[1;91mKeyboardInterrupt\u001B[0m\n",
      "text/html": "<pre style=\"white-space:pre;overflow-x:auto;line-height:normal;font-family:Menlo,'DejaVu Sans Mono',consolas,'Courier New',monospace\"><span style=\"color: #800000; text-decoration-color: #800000\">╭─────────────────────────────── </span><span style=\"color: #800000; text-decoration-color: #800000; font-weight: bold\">Traceback </span><span style=\"color: #bf7f7f; text-decoration-color: #bf7f7f; font-weight: bold\">(most recent call last)</span><span style=\"color: #800000; text-decoration-color: #800000\"> ────────────────────────────────╮</span>\n<span style=\"color: #800000; text-decoration-color: #800000\">│</span> in <span style=\"color: #00ff00; text-decoration-color: #00ff00\">&lt;module&gt;</span>:<span style=\"color: #0000ff; text-decoration-color: #0000ff\">4</span>                                                                                    <span style=\"color: #800000; text-decoration-color: #800000\">│</span>\n<span style=\"color: #800000; text-decoration-color: #800000\">│</span>                                                                                                  <span style=\"color: #800000; text-decoration-color: #800000\">│</span>\n<span style=\"color: #800000; text-decoration-color: #800000\">│</span>   <span style=\"color: #7f7f7f; text-decoration-color: #7f7f7f\"> 1 </span>training_datasets = []                                                                      <span style=\"color: #800000; text-decoration-color: #800000\">│</span>\n<span style=\"color: #800000; text-decoration-color: #800000\">│</span>   <span style=\"color: #7f7f7f; text-decoration-color: #7f7f7f\"> 2 </span><span style=\"color: #0000ff; text-decoration-color: #0000ff\">for</span> train_task <span style=\"color: #ff00ff; text-decoration-color: #ff00ff\">in</span> tqdm(tasks):                                                              <span style=\"color: #800000; text-decoration-color: #800000\">│</span>\n<span style=\"color: #800000; text-decoration-color: #800000\">│</span>   <span style=\"color: #7f7f7f; text-decoration-color: #7f7f7f\"> 3 │   </span>train_path = os.path.join(dataset_dir, <span style=\"color: #808000; text-decoration-color: #808000\">f\"{</span>train_task<span style=\"color: #808000; text-decoration-color: #808000\">}.train.jsonl\"</span>)                     <span style=\"color: #800000; text-decoration-color: #800000\">│</span>\n<span style=\"color: #800000; text-decoration-color: #800000\">│</span> <span style=\"color: #800000; text-decoration-color: #800000\">❱ </span> 4 <span style=\"color: #7f7f7f; text-decoration-color: #7f7f7f\">│   </span>train_dataset = CollieDataset(                                                          <span style=\"color: #800000; text-decoration-color: #800000\">│</span>\n<span style=\"color: #800000; text-decoration-color: #800000\">│</span>   <span style=\"color: #7f7f7f; text-decoration-color: #7f7f7f\"> 5 │   │   </span>tokenizer=tokenizer,                                                                <span style=\"color: #800000; text-decoration-color: #800000\">│</span>\n<span style=\"color: #800000; text-decoration-color: #800000\">│</span>   <span style=\"color: #7f7f7f; text-decoration-color: #7f7f7f\"> 6 │   │   </span>dataset_path=train_path,                                                            <span style=\"color: #800000; text-decoration-color: #800000\">│</span>\n<span style=\"color: #800000; text-decoration-color: #800000\">│</span>   <span style=\"color: #7f7f7f; text-decoration-color: #7f7f7f\"> 7 │   │   </span>max_length=<span style=\"color: #0000ff; text-decoration-color: #0000ff\">2048</span>,                                                                    <span style=\"color: #800000; text-decoration-color: #800000\">│</span>\n<span style=\"color: #800000; text-decoration-color: #800000\">│</span>                                                                                                  <span style=\"color: #800000; text-decoration-color: #800000\">│</span>\n<span style=\"color: #800000; text-decoration-color: #800000\">│</span> <span style=\"color: #bfbf7f; text-decoration-color: #bfbf7f\">/home/ikergarcia/Documents/CoLLIE/src/dataset/</span><span style=\"color: #808000; text-decoration-color: #808000; font-weight: bold\">dataset.py</span>:<span style=\"color: #0000ff; text-decoration-color: #0000ff\">337</span> in <span style=\"color: #00ff00; text-decoration-color: #00ff00\">__init__</span>                         <span style=\"color: #800000; text-decoration-color: #800000\">│</span>\n<span style=\"color: #800000; text-decoration-color: #800000\">│</span>                                                                                                  <span style=\"color: #800000; text-decoration-color: #800000\">│</span>\n<span style=\"color: #800000; text-decoration-color: #800000\">│</span>   <span style=\"color: #7f7f7f; text-decoration-color: #7f7f7f\">334 │   │   │   │   │   │   </span>logging.warning(<span style=\"color: #808000; text-decoration-color: #808000\">f\"Error loading pre-computed epoch {</span>dataset<span style=\"color: #808000; text-decoration-color: #808000\">} . S</span>   <span style=\"color: #800000; text-decoration-color: #800000\">│</span>\n<span style=\"color: #800000; text-decoration-color: #800000\">│</span>   <span style=\"color: #7f7f7f; text-decoration-color: #7f7f7f\">335 │   │   │   │   │   │   </span><span style=\"color: #0000ff; text-decoration-color: #0000ff\">continue</span>                                                           <span style=\"color: #800000; text-decoration-color: #800000\">│</span>\n<span style=\"color: #800000; text-decoration-color: #800000\">│</span>   <span style=\"color: #7f7f7f; text-decoration-color: #7f7f7f\">336 │   │   │   │   │   </span>                                                                       <span style=\"color: #800000; text-decoration-color: #800000\">│</span>\n<span style=\"color: #800000; text-decoration-color: #800000\">│</span> <span style=\"color: #800000; text-decoration-color: #800000\">❱ </span>337 <span style=\"color: #7f7f7f; text-decoration-color: #7f7f7f\">│   │   │   │   │   </span><span style=\"color: #00ffff; text-decoration-color: #00ffff\">self</span>.dataset_dict[<span style=\"color: #00ffff; text-decoration-color: #00ffff\">int</span>(epoch)] = <span style=\"color: #00ffff; text-decoration-color: #00ffff\">self</span>.compute_tokenized_examples(       <span style=\"color: #800000; text-decoration-color: #800000\">│</span>\n<span style=\"color: #800000; text-decoration-color: #800000\">│</span>   <span style=\"color: #7f7f7f; text-decoration-color: #7f7f7f\">338 │   │   │   │   │   │   </span>dataset_path=dataset,                                              <span style=\"color: #800000; text-decoration-color: #800000\">│</span>\n<span style=\"color: #800000; text-decoration-color: #800000\">│</span>   <span style=\"color: #7f7f7f; text-decoration-color: #7f7f7f\">339 │   │   │   │   │   │   </span>num_workers=num_workers,                                           <span style=\"color: #800000; text-decoration-color: #800000\">│</span>\n<span style=\"color: #800000; text-decoration-color: #800000\">│</span>   <span style=\"color: #7f7f7f; text-decoration-color: #7f7f7f\">340 │   │   │   │   │   │   </span>tokenizer=tokenizer,                                               <span style=\"color: #800000; text-decoration-color: #800000\">│</span>\n<span style=\"color: #800000; text-decoration-color: #800000\">│</span>                                                                                                  <span style=\"color: #800000; text-decoration-color: #800000\">│</span>\n<span style=\"color: #800000; text-decoration-color: #800000\">│</span> <span style=\"color: #bfbf7f; text-decoration-color: #bfbf7f\">/home/ikergarcia/Documents/CoLLIE/src/dataset/</span><span style=\"color: #808000; text-decoration-color: #808000; font-weight: bold\">dataset.py</span>:<span style=\"color: #0000ff; text-decoration-color: #0000ff\">426</span> in <span style=\"color: #00ff00; text-decoration-color: #00ff00\">compute_tokenized_examples</span>       <span style=\"color: #800000; text-decoration-color: #800000\">│</span>\n<span style=\"color: #800000; text-decoration-color: #800000\">│</span>                                                                                                  <span style=\"color: #800000; text-decoration-color: #800000\">│</span>\n<span style=\"color: #800000; text-decoration-color: #800000\">│</span>   <span style=\"color: #7f7f7f; text-decoration-color: #7f7f7f\">423 │   │   │   │   </span><span style=\"color: #00ffff; text-decoration-color: #00ffff\">self</span>.prompt_loss_weight,                                                   <span style=\"color: #800000; text-decoration-color: #800000\">│</span>\n<span style=\"color: #800000; text-decoration-color: #800000\">│</span>   <span style=\"color: #7f7f7f; text-decoration-color: #7f7f7f\">424 │   │   │   </span>)                                                                              <span style=\"color: #800000; text-decoration-color: #800000\">│</span>\n<span style=\"color: #800000; text-decoration-color: #800000\">│</span>   <span style=\"color: #7f7f7f; text-decoration-color: #7f7f7f\">425 │   │   │   </span><span style=\"color: #0000ff; text-decoration-color: #0000ff\">with</span> Pool(num_workers) <span style=\"color: #0000ff; text-decoration-color: #0000ff\">as</span> p:                                                   <span style=\"color: #800000; text-decoration-color: #800000\">│</span>\n<span style=\"color: #800000; text-decoration-color: #800000\">│</span> <span style=\"color: #800000; text-decoration-color: #800000\">❱ </span>426 <span style=\"color: #7f7f7f; text-decoration-color: #7f7f7f\">│   │   │   │   </span>tokenized_examples = p.starmap(                                            <span style=\"color: #800000; text-decoration-color: #800000\">│</span>\n<span style=\"color: #800000; text-decoration-color: #800000\">│</span>   <span style=\"color: #7f7f7f; text-decoration-color: #7f7f7f\">427 │   │   │   │   │   </span>tokenizer_fn,                                                          <span style=\"color: #800000; text-decoration-color: #800000\">│</span>\n<span style=\"color: #800000; text-decoration-color: #800000\">│</span>   <span style=\"color: #7f7f7f; text-decoration-color: #7f7f7f\">428 │   │   │   │   │   </span><span style=\"color: #00ffff; text-decoration-color: #00ffff\">zip</span>(batch(examples, num_workers), <span style=\"color: #00ffff; text-decoration-color: #00ffff\">range</span>(num_workers)),                 <span style=\"color: #800000; text-decoration-color: #800000\">│</span>\n<span style=\"color: #800000; text-decoration-color: #800000\">│</span>   <span style=\"color: #7f7f7f; text-decoration-color: #7f7f7f\">429 │   │   │   │   </span>)                                                                          <span style=\"color: #800000; text-decoration-color: #800000\">│</span>\n<span style=\"color: #800000; text-decoration-color: #800000\">│</span>                                                                                                  <span style=\"color: #800000; text-decoration-color: #800000\">│</span>\n<span style=\"color: #800000; text-decoration-color: #800000\">│</span> <span style=\"color: #bfbf7f; text-decoration-color: #bfbf7f\">/home/ikergarcia/miniconda3/envs/transformers/lib/python3.10/multiprocessing/</span><span style=\"color: #808000; text-decoration-color: #808000; font-weight: bold\">pool.py</span>:<span style=\"color: #0000ff; text-decoration-color: #0000ff\">375</span> in      <span style=\"color: #800000; text-decoration-color: #800000\">│</span>\n<span style=\"color: #800000; text-decoration-color: #800000\">│</span> <span style=\"color: #00ff00; text-decoration-color: #00ff00\">starmap</span>                                                                                          <span style=\"color: #800000; text-decoration-color: #800000\">│</span>\n<span style=\"color: #800000; text-decoration-color: #800000\">│</span>                                                                                                  <span style=\"color: #800000; text-decoration-color: #800000\">│</span>\n<span style=\"color: #800000; text-decoration-color: #800000\">│</span>   <span style=\"color: #7f7f7f; text-decoration-color: #7f7f7f\">372 </span><span style=\"color: #bfbf7f; text-decoration-color: #bfbf7f\">│   │   </span><span style=\"color: #808000; text-decoration-color: #808000\">be iterables as well and will be unpacked as arguments. Hence</span>                      <span style=\"color: #800000; text-decoration-color: #800000\">│</span>\n<span style=\"color: #800000; text-decoration-color: #800000\">│</span>   <span style=\"color: #7f7f7f; text-decoration-color: #7f7f7f\">373 </span><span style=\"color: #bfbf7f; text-decoration-color: #bfbf7f\">│   │   </span><span style=\"color: #808000; text-decoration-color: #808000\">`func` and (a, b) becomes func(a, b).</span>                                              <span style=\"color: #800000; text-decoration-color: #800000\">│</span>\n<span style=\"color: #800000; text-decoration-color: #800000\">│</span>   <span style=\"color: #7f7f7f; text-decoration-color: #7f7f7f\">374 </span><span style=\"color: #bfbf7f; text-decoration-color: #bfbf7f\">│   │   </span><span style=\"color: #808000; text-decoration-color: #808000\">'''</span>                                                                                <span style=\"color: #800000; text-decoration-color: #800000\">│</span>\n<span style=\"color: #800000; text-decoration-color: #800000\">│</span> <span style=\"color: #800000; text-decoration-color: #800000\">❱ </span>375 <span style=\"color: #7f7f7f; text-decoration-color: #7f7f7f\">│   │   </span><span style=\"color: #0000ff; text-decoration-color: #0000ff\">return</span> <span style=\"color: #00ffff; text-decoration-color: #00ffff\">self</span>._map_async(func, iterable, starmapstar, chunksize).get()               <span style=\"color: #800000; text-decoration-color: #800000\">│</span>\n<span style=\"color: #800000; text-decoration-color: #800000\">│</span>   <span style=\"color: #7f7f7f; text-decoration-color: #7f7f7f\">376 │   </span>                                                                                       <span style=\"color: #800000; text-decoration-color: #800000\">│</span>\n<span style=\"color: #800000; text-decoration-color: #800000\">│</span>   <span style=\"color: #7f7f7f; text-decoration-color: #7f7f7f\">377 │   </span><span style=\"color: #0000ff; text-decoration-color: #0000ff\">def</span> <span style=\"color: #00ff00; text-decoration-color: #00ff00\">starmap_async</span>(<span style=\"color: #00ffff; text-decoration-color: #00ffff\">self</span>, func, iterable, chunksize=<span style=\"color: #0000ff; text-decoration-color: #0000ff\">None</span>, callback=<span style=\"color: #0000ff; text-decoration-color: #0000ff\">None</span>,                 <span style=\"color: #800000; text-decoration-color: #800000\">│</span>\n<span style=\"color: #800000; text-decoration-color: #800000\">│</span>   <span style=\"color: #7f7f7f; text-decoration-color: #7f7f7f\">378 │   │   │   </span>error_callback=<span style=\"color: #0000ff; text-decoration-color: #0000ff\">None</span>):                                                          <span style=\"color: #800000; text-decoration-color: #800000\">│</span>\n<span style=\"color: #800000; text-decoration-color: #800000\">│</span>                                                                                                  <span style=\"color: #800000; text-decoration-color: #800000\">│</span>\n<span style=\"color: #800000; text-decoration-color: #800000\">│</span> <span style=\"color: #bfbf7f; text-decoration-color: #bfbf7f\">/home/ikergarcia/miniconda3/envs/transformers/lib/python3.10/multiprocessing/</span><span style=\"color: #808000; text-decoration-color: #808000; font-weight: bold\">pool.py</span>:<span style=\"color: #0000ff; text-decoration-color: #0000ff\">768</span> in <span style=\"color: #00ff00; text-decoration-color: #00ff00\">get</span>  <span style=\"color: #800000; text-decoration-color: #800000\">│</span>\n<span style=\"color: #800000; text-decoration-color: #800000\">│</span>                                                                                                  <span style=\"color: #800000; text-decoration-color: #800000\">│</span>\n<span style=\"color: #800000; text-decoration-color: #800000\">│</span>   <span style=\"color: #7f7f7f; text-decoration-color: #7f7f7f\">765 │   │   </span><span style=\"color: #00ffff; text-decoration-color: #00ffff\">self</span>._event.wait(timeout)                                                          <span style=\"color: #800000; text-decoration-color: #800000\">│</span>\n<span style=\"color: #800000; text-decoration-color: #800000\">│</span>   <span style=\"color: #7f7f7f; text-decoration-color: #7f7f7f\">766 │   </span>                                                                                       <span style=\"color: #800000; text-decoration-color: #800000\">│</span>\n<span style=\"color: #800000; text-decoration-color: #800000\">│</span>   <span style=\"color: #7f7f7f; text-decoration-color: #7f7f7f\">767 │   </span><span style=\"color: #0000ff; text-decoration-color: #0000ff\">def</span> <span style=\"color: #00ff00; text-decoration-color: #00ff00\">get</span>(<span style=\"color: #00ffff; text-decoration-color: #00ffff\">self</span>, timeout=<span style=\"color: #0000ff; text-decoration-color: #0000ff\">None</span>):                                                           <span style=\"color: #800000; text-decoration-color: #800000\">│</span>\n<span style=\"color: #800000; text-decoration-color: #800000\">│</span> <span style=\"color: #800000; text-decoration-color: #800000\">❱ </span>768 <span style=\"color: #7f7f7f; text-decoration-color: #7f7f7f\">│   │   </span><span style=\"color: #00ffff; text-decoration-color: #00ffff\">self</span>.wait(timeout)                                                                 <span style=\"color: #800000; text-decoration-color: #800000\">│</span>\n<span style=\"color: #800000; text-decoration-color: #800000\">│</span>   <span style=\"color: #7f7f7f; text-decoration-color: #7f7f7f\">769 │   │   </span><span style=\"color: #0000ff; text-decoration-color: #0000ff\">if</span> <span style=\"color: #ff00ff; text-decoration-color: #ff00ff\">not</span> <span style=\"color: #00ffff; text-decoration-color: #00ffff\">self</span>.ready():                                                               <span style=\"color: #800000; text-decoration-color: #800000\">│</span>\n<span style=\"color: #800000; text-decoration-color: #800000\">│</span>   <span style=\"color: #7f7f7f; text-decoration-color: #7f7f7f\">770 │   │   │   </span><span style=\"color: #0000ff; text-decoration-color: #0000ff\">raise</span> <span style=\"color: #00ffff; text-decoration-color: #00ffff\">TimeoutError</span>                                                             <span style=\"color: #800000; text-decoration-color: #800000\">│</span>\n<span style=\"color: #800000; text-decoration-color: #800000\">│</span>   <span style=\"color: #7f7f7f; text-decoration-color: #7f7f7f\">771 │   │   </span><span style=\"color: #0000ff; text-decoration-color: #0000ff\">if</span> <span style=\"color: #00ffff; text-decoration-color: #00ffff\">self</span>._success:                                                                  <span style=\"color: #800000; text-decoration-color: #800000\">│</span>\n<span style=\"color: #800000; text-decoration-color: #800000\">│</span>                                                                                                  <span style=\"color: #800000; text-decoration-color: #800000\">│</span>\n<span style=\"color: #800000; text-decoration-color: #800000\">│</span> <span style=\"color: #bfbf7f; text-decoration-color: #bfbf7f\">/home/ikergarcia/miniconda3/envs/transformers/lib/python3.10/multiprocessing/</span><span style=\"color: #808000; text-decoration-color: #808000; font-weight: bold\">pool.py</span>:<span style=\"color: #0000ff; text-decoration-color: #0000ff\">765</span> in <span style=\"color: #00ff00; text-decoration-color: #00ff00\">wait</span> <span style=\"color: #800000; text-decoration-color: #800000\">│</span>\n<span style=\"color: #800000; text-decoration-color: #800000\">│</span>                                                                                                  <span style=\"color: #800000; text-decoration-color: #800000\">│</span>\n<span style=\"color: #800000; text-decoration-color: #800000\">│</span>   <span style=\"color: #7f7f7f; text-decoration-color: #7f7f7f\">762 │   │   </span><span style=\"color: #0000ff; text-decoration-color: #0000ff\">return</span> <span style=\"color: #00ffff; text-decoration-color: #00ffff\">self</span>._success                                                               <span style=\"color: #800000; text-decoration-color: #800000\">│</span>\n<span style=\"color: #800000; text-decoration-color: #800000\">│</span>   <span style=\"color: #7f7f7f; text-decoration-color: #7f7f7f\">763 │   </span>                                                                                       <span style=\"color: #800000; text-decoration-color: #800000\">│</span>\n<span style=\"color: #800000; text-decoration-color: #800000\">│</span>   <span style=\"color: #7f7f7f; text-decoration-color: #7f7f7f\">764 │   </span><span style=\"color: #0000ff; text-decoration-color: #0000ff\">def</span> <span style=\"color: #00ff00; text-decoration-color: #00ff00\">wait</span>(<span style=\"color: #00ffff; text-decoration-color: #00ffff\">self</span>, timeout=<span style=\"color: #0000ff; text-decoration-color: #0000ff\">None</span>):                                                          <span style=\"color: #800000; text-decoration-color: #800000\">│</span>\n<span style=\"color: #800000; text-decoration-color: #800000\">│</span> <span style=\"color: #800000; text-decoration-color: #800000\">❱ </span>765 <span style=\"color: #7f7f7f; text-decoration-color: #7f7f7f\">│   │   </span><span style=\"color: #00ffff; text-decoration-color: #00ffff\">self</span>._event.wait(timeout)                                                          <span style=\"color: #800000; text-decoration-color: #800000\">│</span>\n<span style=\"color: #800000; text-decoration-color: #800000\">│</span>   <span style=\"color: #7f7f7f; text-decoration-color: #7f7f7f\">766 │   </span>                                                                                       <span style=\"color: #800000; text-decoration-color: #800000\">│</span>\n<span style=\"color: #800000; text-decoration-color: #800000\">│</span>   <span style=\"color: #7f7f7f; text-decoration-color: #7f7f7f\">767 │   </span><span style=\"color: #0000ff; text-decoration-color: #0000ff\">def</span> <span style=\"color: #00ff00; text-decoration-color: #00ff00\">get</span>(<span style=\"color: #00ffff; text-decoration-color: #00ffff\">self</span>, timeout=<span style=\"color: #0000ff; text-decoration-color: #0000ff\">None</span>):                                                           <span style=\"color: #800000; text-decoration-color: #800000\">│</span>\n<span style=\"color: #800000; text-decoration-color: #800000\">│</span>   <span style=\"color: #7f7f7f; text-decoration-color: #7f7f7f\">768 │   │   </span><span style=\"color: #00ffff; text-decoration-color: #00ffff\">self</span>.wait(timeout)                                                                 <span style=\"color: #800000; text-decoration-color: #800000\">│</span>\n<span style=\"color: #800000; text-decoration-color: #800000\">│</span>                                                                                                  <span style=\"color: #800000; text-decoration-color: #800000\">│</span>\n<span style=\"color: #800000; text-decoration-color: #800000\">│</span> <span style=\"color: #bfbf7f; text-decoration-color: #bfbf7f\">/home/ikergarcia/miniconda3/envs/transformers/lib/python3.10/</span><span style=\"color: #808000; text-decoration-color: #808000; font-weight: bold\">threading.py</span>:<span style=\"color: #0000ff; text-decoration-color: #0000ff\">607</span> in <span style=\"color: #00ff00; text-decoration-color: #00ff00\">wait</span>            <span style=\"color: #800000; text-decoration-color: #800000\">│</span>\n<span style=\"color: #800000; text-decoration-color: #800000\">│</span>                                                                                                  <span style=\"color: #800000; text-decoration-color: #800000\">│</span>\n<span style=\"color: #800000; text-decoration-color: #800000\">│</span>   <span style=\"color: #7f7f7f; text-decoration-color: #7f7f7f\"> 604 │   │   </span><span style=\"color: #0000ff; text-decoration-color: #0000ff\">with</span> <span style=\"color: #00ffff; text-decoration-color: #00ffff\">self</span>._cond:                                                                  <span style=\"color: #800000; text-decoration-color: #800000\">│</span>\n<span style=\"color: #800000; text-decoration-color: #800000\">│</span>   <span style=\"color: #7f7f7f; text-decoration-color: #7f7f7f\"> 605 │   │   │   </span>signaled = <span style=\"color: #00ffff; text-decoration-color: #00ffff\">self</span>._flag                                                         <span style=\"color: #800000; text-decoration-color: #800000\">│</span>\n<span style=\"color: #800000; text-decoration-color: #800000\">│</span>   <span style=\"color: #7f7f7f; text-decoration-color: #7f7f7f\"> 606 │   │   │   </span><span style=\"color: #0000ff; text-decoration-color: #0000ff\">if</span> <span style=\"color: #ff00ff; text-decoration-color: #ff00ff\">not</span> signaled:                                                              <span style=\"color: #800000; text-decoration-color: #800000\">│</span>\n<span style=\"color: #800000; text-decoration-color: #800000\">│</span> <span style=\"color: #800000; text-decoration-color: #800000\">❱ </span> 607 <span style=\"color: #7f7f7f; text-decoration-color: #7f7f7f\">│   │   │   │   </span>signaled = <span style=\"color: #00ffff; text-decoration-color: #00ffff\">self</span>._cond.wait(timeout)                                       <span style=\"color: #800000; text-decoration-color: #800000\">│</span>\n<span style=\"color: #800000; text-decoration-color: #800000\">│</span>   <span style=\"color: #7f7f7f; text-decoration-color: #7f7f7f\"> 608 │   │   │   </span><span style=\"color: #0000ff; text-decoration-color: #0000ff\">return</span> signaled                                                               <span style=\"color: #800000; text-decoration-color: #800000\">│</span>\n<span style=\"color: #800000; text-decoration-color: #800000\">│</span>   <span style=\"color: #7f7f7f; text-decoration-color: #7f7f7f\"> 609 </span>                                                                                          <span style=\"color: #800000; text-decoration-color: #800000\">│</span>\n<span style=\"color: #800000; text-decoration-color: #800000\">│</span>   <span style=\"color: #7f7f7f; text-decoration-color: #7f7f7f\"> 610 </span>                                                                                          <span style=\"color: #800000; text-decoration-color: #800000\">│</span>\n<span style=\"color: #800000; text-decoration-color: #800000\">│</span>                                                                                                  <span style=\"color: #800000; text-decoration-color: #800000\">│</span>\n<span style=\"color: #800000; text-decoration-color: #800000\">│</span> <span style=\"color: #bfbf7f; text-decoration-color: #bfbf7f\">/home/ikergarcia/miniconda3/envs/transformers/lib/python3.10/</span><span style=\"color: #808000; text-decoration-color: #808000; font-weight: bold\">threading.py</span>:<span style=\"color: #0000ff; text-decoration-color: #0000ff\">320</span> in <span style=\"color: #00ff00; text-decoration-color: #00ff00\">wait</span>            <span style=\"color: #800000; text-decoration-color: #800000\">│</span>\n<span style=\"color: #800000; text-decoration-color: #800000\">│</span>                                                                                                  <span style=\"color: #800000; text-decoration-color: #800000\">│</span>\n<span style=\"color: #800000; text-decoration-color: #800000\">│</span>   <span style=\"color: #7f7f7f; text-decoration-color: #7f7f7f\"> 317 │   │   </span>gotit = <span style=\"color: #0000ff; text-decoration-color: #0000ff\">False</span>                                                                     <span style=\"color: #800000; text-decoration-color: #800000\">│</span>\n<span style=\"color: #800000; text-decoration-color: #800000\">│</span>   <span style=\"color: #7f7f7f; text-decoration-color: #7f7f7f\"> 318 │   │   </span><span style=\"color: #0000ff; text-decoration-color: #0000ff\">try</span>:    <span style=\"color: #7f7f7f; text-decoration-color: #7f7f7f\"># restore state no matter what (e.g., KeyboardInterrupt)</span>                  <span style=\"color: #800000; text-decoration-color: #800000\">│</span>\n<span style=\"color: #800000; text-decoration-color: #800000\">│</span>   <span style=\"color: #7f7f7f; text-decoration-color: #7f7f7f\"> 319 │   │   │   </span><span style=\"color: #0000ff; text-decoration-color: #0000ff\">if</span> timeout <span style=\"color: #ff00ff; text-decoration-color: #ff00ff\">is</span> <span style=\"color: #0000ff; text-decoration-color: #0000ff\">None</span>:                                                           <span style=\"color: #800000; text-decoration-color: #800000\">│</span>\n<span style=\"color: #800000; text-decoration-color: #800000\">│</span> <span style=\"color: #800000; text-decoration-color: #800000\">❱ </span> 320 <span style=\"color: #7f7f7f; text-decoration-color: #7f7f7f\">│   │   │   │   </span>waiter.acquire()                                                          <span style=\"color: #800000; text-decoration-color: #800000\">│</span>\n<span style=\"color: #800000; text-decoration-color: #800000\">│</span>   <span style=\"color: #7f7f7f; text-decoration-color: #7f7f7f\"> 321 │   │   │   │   </span>gotit = <span style=\"color: #0000ff; text-decoration-color: #0000ff\">True</span>                                                              <span style=\"color: #800000; text-decoration-color: #800000\">│</span>\n<span style=\"color: #800000; text-decoration-color: #800000\">│</span>   <span style=\"color: #7f7f7f; text-decoration-color: #7f7f7f\"> 322 │   │   │   </span><span style=\"color: #0000ff; text-decoration-color: #0000ff\">else</span>:                                                                         <span style=\"color: #800000; text-decoration-color: #800000\">│</span>\n<span style=\"color: #800000; text-decoration-color: #800000\">│</span>   <span style=\"color: #7f7f7f; text-decoration-color: #7f7f7f\"> 323 │   │   │   │   </span><span style=\"color: #0000ff; text-decoration-color: #0000ff\">if</span> timeout &gt; <span style=\"color: #0000ff; text-decoration-color: #0000ff\">0</span>:                                                           <span style=\"color: #800000; text-decoration-color: #800000\">│</span>\n<span style=\"color: #800000; text-decoration-color: #800000\">╰──────────────────────────────────────────────────────────────────────────────────────────────────╯</span>\n<span style=\"color: #ff0000; text-decoration-color: #ff0000; font-weight: bold\">KeyboardInterrupt</span>\n</pre>\n"
     },
     "metadata": {},
     "output_type": "display_data"
    }
   ],
   "source": [
    "training_datasets = []\n",
    "for train_task in tqdm(tasks):\n",
    "    train_path = os.path.join(dataset_dir, f\"{train_task}.train.jsonl\")\n",
    "    train_dataset = CollieDataset(\n",
    "        tokenizer=tokenizer,\n",
    "        dataset_path=train_path,\n",
    "        max_length=2048,\n",
    "        is_encoder_decoder=True,\n",
    "        inference=False,\n",
    "        prompt_loss_weight=0.0,\n",
    "    )\n",
    "    training_datasets.append(train_dataset)\n",
    "\n",
    "train_dataset = ConcatDataset(training_datasets)"
   ],
   "metadata": {
    "collapsed": false,
    "ExecuteTime": {
     "end_time": "2023-07-03T12:58:37.573134316Z",
     "start_time": "2023-07-03T12:58:03.958587544Z"
    }
   }
  },
  {
   "cell_type": "code",
   "execution_count": null,
   "outputs": [],
   "source": [
    "train_dataloader = DataLoader(\n",
    "    train_dataset,\n",
    "    batch_size=32,\n",
    "    collate_fn=DataCollatorForCoLLIE(\n",
    "        tokenizer,\n",
    "        pad_to_multiple_of=8,\n",
    "        return_tensors=\"pt\",\n",
    "        padding=True,\n",
    "        label_pad_token_id=-100,\n",
    "    ),\n",
    "    shuffle=True,\n",
    ")"
   ],
   "metadata": {
    "collapsed": false
   }
  },
  {
   "cell_type": "code",
   "execution_count": null,
   "outputs": [],
   "source": [
    "# Get the len of each batch\n",
    "batch_lens = []\n",
    "for batch in train_dataloader:\n",
    "    batch_lens.append(batch[\"input_ids\"].shape[1])\n",
    "\n",
    "avg_batch_len = sum(batch_lens) / len(batch_lens)\n",
    "print(f\"Average batch length: {avg_batch_len}\")\n",
    "\n",
    "max_batch_len = max(batch_lens)\n",
    "print(f\"Max batch length: {max_batch_len}\")\n",
    "\n",
    "min_batch_len = min(batch_lens)\n",
    "print(f\"Min batch length: {min_batch_len}\")\n",
    "\n",
    "top_10 = sorted(batch_lens, reverse=True)[:10]\n",
    "print(f\"Top 10 batch lengths: {top_10}\")\n",
    "\n",
    "top_1_percent = sorted(batch_lens, reverse=True)[: int(len(batch_lens) * 0.01)]\n",
    "print(f\"Top 1% batch lengths: {top_1_percent}\")\n",
    "\n",
    "top_01_percent = sorted(batch_lens, reverse=True)[: int(len(batch_lens) * 0.001)]\n",
    "print(f\"Top 0.1% batch lengths: {top_01_percent}\")"
   ],
   "metadata": {
    "collapsed": false
   }
  },
  {
   "cell_type": "code",
   "execution_count": null,
   "outputs": [],
   "source": [
    "import matplotlib.pyplot as plt\n",
    "\n",
    "plt.hist(batch_lens, bins=100)\n",
    "plt.title(\"Distribution of batch lengths\")\n",
    "plt.axvline(1024, color=\"red\")"
   ],
   "metadata": {
    "collapsed": false
   }
  }
 ],
 "metadata": {
  "kernelspec": {
   "display_name": "Python 3",
   "language": "python",
   "name": "python3"
  },
  "language_info": {
   "codemirror_mode": {
    "name": "ipython",
    "version": 2
   },
   "file_extension": ".py",
   "mimetype": "text/x-python",
   "name": "python",
   "nbconvert_exporter": "python",
   "pygments_lexer": "ipython2",
   "version": "2.7.6"
  }
 },
 "nbformat": 4,
 "nbformat_minor": 0
}
