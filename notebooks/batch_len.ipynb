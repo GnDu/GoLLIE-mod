{
 "cells": [
  {
   "cell_type": "code",
   "execution_count": 1,
   "metadata": {
    "ExecuteTime": {
     "end_time": "2023-07-03T12:57:32.108904019Z",
     "start_time": "2023-07-03T12:57:28.794706711Z"
    }
   },
   "outputs": [
    {
     "name": "stdout",
     "output_type": "stream",
     "text": [
      "[2023-07-03 15:08:58,619] [INFO] [real_accelerator.py:110:get_accelerator] Setting ds_accelerator to cuda (auto detect)\n",
      "\n",
      "===================================BUG REPORT===================================\n",
      "Welcome to bitsandbytes. For bug reports, please run\n",
      "\n",
      "python -m bitsandbytes\n",
      "\n",
      " and submit this information together with your error trace to: https://github.com/TimDettmers/bitsandbytes/issues\n",
      "================================================================================\n",
      "bin /ikerlariak/osainz006/venvs/collie/lib/python3.9/site-packages/bitsandbytes/libbitsandbytes_cuda117.so\n",
      "CUDA SETUP: CUDA runtime path found: /usr/local/cuda-11.7/lib64/libcudart.so.11.0\n",
      "CUDA SETUP: Highest compute capability among GPUs detected: 8.0\n",
      "CUDA SETUP: Detected CUDA version 117\n",
      "CUDA SETUP: Loading binary /ikerlariak/osainz006/venvs/collie/lib/python3.9/site-packages/bitsandbytes/libbitsandbytes_cuda117.so...\n"
     ]
    },
    {
     "name": "stderr",
     "output_type": "stream",
     "text": [
      "/ikerlariak/osainz006/venvs/collie/lib/python3.9/site-packages/bitsandbytes/cuda_setup/main.py:149: UserWarning: WARNING: The following directories listed in your path were found to be non-existent: {PosixPath('/usr/local/boost/lib'), PosixPath('/usr/lib/boost-1.46.1')}\n",
      "  warn(msg)\n"
     ]
    }
   ],
   "source": [
    "import sys\n",
    "\n",
    "# cd to ../src\n",
    "sys.path.append(\"../\")\n",
    "from src.trainer import ConcatDataset\n",
    "from src.dataset.dataset import CollieDataset, DataCollatorForCoLLIE\n",
    "from torch.utils.data import DataLoader\n",
    "import os\n",
    "from transformers import AutoTokenizer\n",
    "from tqdm.notebook import tqdm\n",
    "import logging\n",
    "\n",
    "logging.basicConfig(level=logging.INFO)"
   ]
  },
  {
   "cell_type": "code",
   "execution_count": 2,
   "metadata": {
    "ExecuteTime": {
     "end_time": "2023-07-03T12:57:39.043424977Z",
     "start_time": "2023-07-03T12:57:39.037269780Z"
    }
   },
   "outputs": [],
   "source": [
    "# Set for local execution, leave empty for running it on the server\n",
    "# local_path = \"/run/user/1000/gvfs/sftp:host=tximista.ixa.eus,user=igarcia945/\"\n",
    "local_path = \"\""
   ]
  },
  {
   "cell_type": "code",
   "execution_count": 3,
   "metadata": {
    "ExecuteTime": {
     "end_time": "2023-07-03T12:57:41.425769488Z",
     "start_time": "2023-07-03T12:57:41.420677985Z"
    }
   },
   "outputs": [
    {
     "name": "stdout",
     "output_type": "stream",
     "text": [
      "/ikerlariak/osainz006/CoLLIE/data/processed_incr\n",
      "['ace05.ner', 'ace05.re', 'ace05.rc', 'ace05.ee', 'ace05.eae', 'conll03.ner', 'rams.eae']\n"
     ]
    }
   ],
   "source": [
    "dataset_dir = f\"{local_path}/ikerlariak/osainz006/CoLLIE/data/processed_incr\"\n",
    "tasks = [\n",
    "    \"ace05.ner\",\n",
    "    \"ace05.re\",\n",
    "    \"ace05.rc\",\n",
    "    \"ace05.ee\",\n",
    "    \"ace05.eae\",\n",
    "    \"conll03.ner\",\n",
    "    \"rams.eae\",\n",
    "    # \"tacred.re\",\n",
    "    # \"tacred.sf\",\n",
    "    # \"wikievents.eae\",\n",
    "    # \"wikievents.ee\",\n",
    "    # \"wikievents.ner\",\n",
    "]\n",
    "print(dataset_dir)\n",
    "print(tasks)"
   ]
  },
  {
   "cell_type": "code",
   "execution_count": 4,
   "metadata": {
    "ExecuteTime": {
     "end_time": "2023-07-03T12:58:00.466516905Z",
     "start_time": "2023-07-03T12:57:57.785356987Z"
    }
   },
   "outputs": [
    {
     "name": "stdout",
     "output_type": "stream",
     "text": [
      "Model does not have a pad token, we will use the unk token as pad token.\n"
     ]
    }
   ],
   "source": [
    "tokenizer = AutoTokenizer.from_pretrained(\n",
    "    f\"{local_path}/gaueko1/hizkuntza-ereduak/LLaMA/lm/huggingface/7B/\",\n",
    "    add_eos_token=True,\n",
    ")\n",
    "tokenizer.padding_side = \"left\"\n",
    "if tokenizer.pad_token_id is None:\n",
    "    if \"<|padding|>\" in tokenizer.get_vocab():\n",
    "        # StabilityLM specific fix\n",
    "        tokenizer.add_special_tokens({\"pad_token\": \"<|padding|>\"})\n",
    "    elif tokenizer.unk_token is not None:\n",
    "        print(\"Model does not have a pad token, we will use the unk token as pad token.\")\n",
    "        tokenizer.pad_token_id = tokenizer.unk_token_id\n",
    "    else:\n",
    "        print(\"Model does not have a pad token. We will use the eos token as pad token.\")\n",
    "        tokenizer.pad_token_id = tokenizer.eos_token_id"
   ]
  },
  {
   "cell_type": "code",
   "execution_count": 5,
   "metadata": {
    "ExecuteTime": {
     "end_time": "2023-07-03T12:58:37.573134316Z",
     "start_time": "2023-07-03T12:58:03.958587544Z"
    }
   },
   "outputs": [
    {
     "data": {
      "application/vnd.jupyter.widget-view+json": {
       "model_id": "2fb30aa5f5e04012ae84cfae70509638",
       "version_major": 2,
       "version_minor": 0
      },
      "text/plain": [
       "  0%|          | 0/7 [00:00<?, ?it/s]"
      ]
     },
     "metadata": {},
     "output_type": "display_data"
    },
    {
     "name": "stderr",
     "output_type": "stream",
     "text": [
      "INFO:root:Found 3 pre-computed epoch datasets.\n",
      "INFO:root:Loaded [19217, 19217, 19217] examples from /ikerlariak/osainz006/CoLLIE/data/processed_incr/ace05.ner.train.jsonl\n",
      "INFO:root:Found 3 pre-computed epoch datasets.\n",
      "INFO:root:Loaded [19217, 19217, 19217] examples from /ikerlariak/osainz006/CoLLIE/data/processed_incr/ace05.re.train.jsonl\n",
      "INFO:root:Found 3 pre-computed epoch datasets.\n",
      "INFO:root:Loaded [5691, 5691, 5691] examples from /ikerlariak/osainz006/CoLLIE/data/processed_incr/ace05.rc.train.jsonl\n",
      "INFO:root:Found 3 pre-computed epoch datasets.\n",
      "INFO:root:Loaded [19217, 19217, 19217] examples from /ikerlariak/osainz006/CoLLIE/data/processed_incr/ace05.ee.train.jsonl\n",
      "INFO:root:Found 3 pre-computed epoch datasets.\n",
      "INFO:root:Loaded [3843, 3843, 3843] examples from /ikerlariak/osainz006/CoLLIE/data/processed_incr/ace05.eae.train.jsonl\n",
      "INFO:root:Found 3 pre-computed epoch datasets.\n",
      "INFO:root:Loaded [14041, 14041, 14041] examples from /ikerlariak/osainz006/CoLLIE/data/processed_incr/conll03.ner.train.jsonl\n",
      "INFO:root:Found 3 pre-computed epoch datasets.\n",
      "INFO:root:Loaded [7329, 7329, 7329] examples from /ikerlariak/osainz006/CoLLIE/data/processed_incr/rams.eae.train.jsonl\n"
     ]
    }
   ],
   "source": [
    "training_datasets = []\n",
    "for train_task in tqdm(tasks):\n",
    "    train_path = os.path.join(dataset_dir, f\"{train_task}.train.jsonl\")\n",
    "    train_dataset = CollieDataset(\n",
    "        tokenizer=tokenizer,\n",
    "        dataset_path=train_path,\n",
    "        max_length=2048,\n",
    "        is_encoder_decoder=True,\n",
    "        inference=False,\n",
    "        prompt_loss_weight=0.0,\n",
    "    )\n",
    "    training_datasets.append(train_dataset)\n",
    "\n",
    "train_dataset = ConcatDataset(training_datasets)"
   ]
  },
  {
   "cell_type": "code",
   "execution_count": 6,
   "metadata": {},
   "outputs": [],
   "source": [
    "train_dataloader = DataLoader(\n",
    "    train_dataset,\n",
    "    batch_size=32,\n",
    "    collate_fn=DataCollatorForCoLLIE(\n",
    "        tokenizer,\n",
    "        pad_to_multiple_of=8,\n",
    "        return_tensors=\"pt\",\n",
    "        padding=True,\n",
    "        label_pad_token_id=-100,\n",
    "    ),\n",
    "    shuffle=True,\n",
    ")"
   ]
  },
  {
   "cell_type": "code",
   "execution_count": null,
   "metadata": {},
   "outputs": [],
   "source": [
    "# Get the len of each batch\n",
    "batch_lens = []\n",
    "for batch in tqdm(train_dataloader):\n",
    "    batch_lens.append(batch[\"input_ids\"].shape[1])"
   ]
  },
  {
   "cell_type": "code",
   "execution_count": 14,
   "metadata": {},
   "outputs": [
    {
     "name": "stdout",
     "output_type": "stream",
     "text": [
      "Total batches: 2768\n",
      "Average batch length: 812.1589595375723\n",
      "Max batch length: 1136\n",
      "Min batch length: 648\n",
      "Top 10 batch lengths: [1136, 1128, 1120, 1120, 1096, 1096, 1088, 1088, 1088, 1088]\n",
      "Top 1% batch lengths: [1136, 1128, 1120, 1120, 1096, 1096, 1088, 1088, 1088, 1088, 1088, 1080, 1080, 1080, 1080, 1080, 1080, 1080, 1080, 1080, 1072, 1072, 1072, 1072, 1072, 1072, 1072]\n",
      "Top 0.1% batch lengths: [1136, 1128]\n",
      "Indexes of top 10 batch lengths: [710, 695, 1027, 1027, 1249, 1249, 546, 546, 546, 546]\n"
     ]
    }
   ],
   "source": [
    "print(f\"Total batches: {len(batch_lens)}\")\n",
    "\n",
    "avg_batch_len = sum(batch_lens) / len(batch_lens)\n",
    "print(f\"Average batch length: {avg_batch_len}\")\n",
    "\n",
    "max_batch_len = max(batch_lens)\n",
    "print(f\"Max batch length: {max_batch_len}\")\n",
    "\n",
    "min_batch_len = min(batch_lens)\n",
    "print(f\"Min batch length: {min_batch_len}\")\n",
    "\n",
    "top_10 = sorted(batch_lens, reverse=True)[:10]\n",
    "print(f\"Top 10 batch lengths: {top_10}\")\n",
    "\n",
    "top_1_percent = sorted(batch_lens, reverse=True)[: int(len(batch_lens) * 0.01)]\n",
    "print(f\"Top 1% batch lengths: {top_1_percent}\")\n",
    "\n",
    "top_01_percent = sorted(batch_lens, reverse=True)[: int(len(batch_lens) * 0.001)]\n",
    "print(f\"Top 0.1% batch lengths: {top_01_percent}\")\n",
    "\n",
    "idxs_of_top_10 = [batch_lens.index(x) for x in top_10]\n",
    "print(f\"Indexes of top 10 batch lengths: {idxs_of_top_10}\")"
   ]
  },
  {
   "cell_type": "code",
   "execution_count": 21,
   "metadata": {},
   "outputs": [
    {
     "data": {
      "text/plain": [
       "<matplotlib.lines.Line2D at 0x7f7a66978be0>"
      ]
     },
     "execution_count": 21,
     "metadata": {},
     "output_type": "execute_result"
    },
    {
     "data": {
      "image/png": "[encoded data removed]",
      "text/plain": [
       "<Figure size 1000x1000 with 1 Axes>"
      ]
     },
     "metadata": {},
     "output_type": "display_data"
    }
   ],
   "source": [
    "import matplotlib.pyplot as plt\n",
    "\n",
    "plt.figure(figsize=(10, 10))\n",
    "plt.hist(batch_lens, bins=100)\n",
    "plt.title(\"Distribution of batch lengths\")\n",
    "plt.axvline(1024, color=\"red\")"
   ]
  },
  {
   "cell_type": "code",
   "execution_count": 27,
   "metadata": {},
   "outputs": [
    {
     "ename": "NameError",
     "evalue": "name 'ax' is not defined",
     "output_type": "error",
     "traceback": [
      "\u001b[0;31m---------------------------------------------------------------------------\u001b[0m",
      "\u001b[0;31mNameError\u001b[0m                                 Traceback (most recent call last)",
      "Cell \u001b[0;32mIn[27], line 7\u001b[0m\n\u001b[1;32m      5\u001b[0m plt\u001b[38;5;241m.\u001b[39mfigure(figsize\u001b[38;5;241m=\u001b[39m(\u001b[38;5;241m10\u001b[39m,\u001b[38;5;241m10\u001b[39m))\n\u001b[1;32m      6\u001b[0m sns\u001b[38;5;241m.\u001b[39mbarplot(x\u001b[38;5;241m=\u001b[39mnp\u001b[38;5;241m.\u001b[39marange(\u001b[38;5;28mlen\u001b[39m(batch_lens)), y\u001b[38;5;241m=\u001b[39mbatch_lens)\n\u001b[0;32m----> 7\u001b[0m \u001b[43max\u001b[49m\u001b[38;5;241m.\u001b[39mbar_label(ax\u001b[38;5;241m.\u001b[39mcontainers[\u001b[38;5;241m0\u001b[39m])\n\u001b[1;32m      8\u001b[0m plt\u001b[38;5;241m.\u001b[39maxis(\u001b[38;5;124m'\u001b[39m\u001b[38;5;124moff\u001b[39m\u001b[38;5;124m'\u001b[39m)\n\u001b[1;32m      9\u001b[0m plt\u001b[38;5;241m.\u001b[39mshow()\n",
      "\u001b[0;31mNameError\u001b[0m: name 'ax' is not defined"
     ]
    },
    {
     "data": {
      "image/png": "[encoded data removed]",
      "text/plain": [
       "<Figure size 1000x1000 with 1 Axes>"
      ]
     },
     "metadata": {},
     "output_type": "display_data"
    }
   ],
   "source": [
    "import matplotlib.pyplot as plt\n",
    "import seaborn as sns\n",
    "import numpy as np\n",
    "\n",
    "plt.figure(figsize=(10, 10))\n",
    "sns.barplot(x=np.arange(len(batch_lens)), y=batch_lens)\n",
    "ax.bar_label(ax.containers[0])\n",
    "plt.axis(\"off\")\n",
    "plt.show()"
   ]
  },
  {
   "cell_type": "code",
   "execution_count": null,
   "metadata": {},
   "outputs": [],
   "source": []
  }
 ],
 "metadata": {
  "kernelspec": {
   "display_name": "collie",
   "language": "python",
   "name": "collie"
  },
  "language_info": {
   "codemirror_mode": {
    "name": "ipython",
    "version": 3
   },
   "file_extension": ".py",
   "mimetype": "text/x-python",
   "name": "python",
   "nbconvert_exporter": "python",
   "pygments_lexer": "ipython3",
   "version": "3.9.7"
  }
 },
 "nbformat": 4,
 "nbformat_minor": 1
}
